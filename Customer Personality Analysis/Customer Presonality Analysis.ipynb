{
  "cells": [
    {
      "cell_type": "markdown",
      "metadata": {},
      "source": [
        "# https://www.kaggle.com/code/karnikakapoor/customer-segmentation-clustering"
      ]
    },
    {
      "cell_type": "code",
      "execution_count": 1,
      "metadata": {
        "id": "suek9rVopOfz"
      },
      "outputs": [],
      "source": [
        "import pandas as pd"
      ]
    },
    {
      "cell_type": "code",
      "execution_count": 2,
      "metadata": {
        "id": "SWblgL-8JSdh"
      },
      "outputs": [],
      "source": [
        "import numpy as np\n",
        "import matplotlib.pyplot as plt\n",
        "from sklearn.preprocessing import StandardScaler, OneHotEncoder\n",
        "from sklearn.compose import ColumnTransformer\n",
        "from sklearn.model_selection import train_test_split\n",
        "from sklearn.ensemble import RandomForestClassifier\n",
        "from sklearn.metrics import accuracy_score, classification_report"
      ]
    },
    {
      "cell_type": "code",
      "execution_count": 4,
      "metadata": {
        "id": "ZAZq-7z_pc3M"
      },
      "outputs": [],
      "source": [
        " df = pd.read_csv(\"marketing__campaign.csv\", delimiter=\"\\t\")  # Use tab delimiter\n",
        " # df = pd.read_csv(\"marketing__campaign.csv\", sep=None)\n",
        "# print(df.head())"
      ]
    },
    {
      "cell_type": "code",
      "execution_count": 5,
      "metadata": {
        "colab": {
          "base_uri": "https://localhost:8080/"
        },
        "id": "D1K9oYoVr99R",
        "outputId": "1c568c6a-40fb-48b5-c83f-ffbdd1141206"
      },
      "outputs": [
        {
          "data": {
            "text/plain": [
              "(2240, 29)"
            ]
          },
          "execution_count": 5,
          "metadata": {},
          "output_type": "execute_result"
        }
      ],
      "source": [
        "df.shape"
      ]
    },
    {
      "cell_type": "code",
      "execution_count": 6,
      "metadata": {
        "colab": {
          "base_uri": "https://localhost:8080/",
          "height": 256
        },
        "id": "W1_fgIYkpmtL",
        "outputId": "c0a4367c-b350-4a29-fe89-d59062641191"
      },
      "outputs": [
        {
          "data": {
            "application/vnd.google.colaboratory.intrinsic+json": {
              "type": "dataframe",
              "variable_name": "df"
            },
            "text/html": [
              "\n",
              "  <div id=\"df-00b12cf7-6555-42c0-b7fa-51c41e1854f4\" class=\"colab-df-container\">\n",
              "    <div>\n",
              "<style scoped>\n",
              "    .dataframe tbody tr th:only-of-type {\n",
              "        vertical-align: middle;\n",
              "    }\n",
              "\n",
              "    .dataframe tbody tr th {\n",
              "        vertical-align: top;\n",
              "    }\n",
              "\n",
              "    .dataframe thead th {\n",
              "        text-align: right;\n",
              "    }\n",
              "</style>\n",
              "<table border=\"1\" class=\"dataframe\">\n",
              "  <thead>\n",
              "    <tr style=\"text-align: right;\">\n",
              "      <th></th>\n",
              "      <th>ID</th>\n",
              "      <th>Year_Birth</th>\n",
              "      <th>Education</th>\n",
              "      <th>Marital_Status</th>\n",
              "      <th>Income</th>\n",
              "      <th>Kidhome</th>\n",
              "      <th>Teenhome</th>\n",
              "      <th>Dt_Customer</th>\n",
              "      <th>Recency</th>\n",
              "      <th>MntWines</th>\n",
              "      <th>...</th>\n",
              "      <th>NumWebVisitsMonth</th>\n",
              "      <th>AcceptedCmp3</th>\n",
              "      <th>AcceptedCmp4</th>\n",
              "      <th>AcceptedCmp5</th>\n",
              "      <th>AcceptedCmp1</th>\n",
              "      <th>AcceptedCmp2</th>\n",
              "      <th>Complain</th>\n",
              "      <th>Z_CostContact</th>\n",
              "      <th>Z_Revenue</th>\n",
              "      <th>Response</th>\n",
              "    </tr>\n",
              "  </thead>\n",
              "  <tbody>\n",
              "    <tr>\n",
              "      <th>0</th>\n",
              "      <td>5524</td>\n",
              "      <td>1957</td>\n",
              "      <td>Graduation</td>\n",
              "      <td>Single</td>\n",
              "      <td>58138.0</td>\n",
              "      <td>0</td>\n",
              "      <td>0</td>\n",
              "      <td>04-09-2012</td>\n",
              "      <td>58</td>\n",
              "      <td>635</td>\n",
              "      <td>...</td>\n",
              "      <td>7</td>\n",
              "      <td>0</td>\n",
              "      <td>0</td>\n",
              "      <td>0</td>\n",
              "      <td>0</td>\n",
              "      <td>0</td>\n",
              "      <td>0</td>\n",
              "      <td>3</td>\n",
              "      <td>11</td>\n",
              "      <td>1</td>\n",
              "    </tr>\n",
              "    <tr>\n",
              "      <th>1</th>\n",
              "      <td>2174</td>\n",
              "      <td>1954</td>\n",
              "      <td>Graduation</td>\n",
              "      <td>Single</td>\n",
              "      <td>46344.0</td>\n",
              "      <td>1</td>\n",
              "      <td>1</td>\n",
              "      <td>08-03-2014</td>\n",
              "      <td>38</td>\n",
              "      <td>11</td>\n",
              "      <td>...</td>\n",
              "      <td>5</td>\n",
              "      <td>0</td>\n",
              "      <td>0</td>\n",
              "      <td>0</td>\n",
              "      <td>0</td>\n",
              "      <td>0</td>\n",
              "      <td>0</td>\n",
              "      <td>3</td>\n",
              "      <td>11</td>\n",
              "      <td>0</td>\n",
              "    </tr>\n",
              "    <tr>\n",
              "      <th>2</th>\n",
              "      <td>4141</td>\n",
              "      <td>1965</td>\n",
              "      <td>Graduation</td>\n",
              "      <td>Together</td>\n",
              "      <td>71613.0</td>\n",
              "      <td>0</td>\n",
              "      <td>0</td>\n",
              "      <td>21-08-2013</td>\n",
              "      <td>26</td>\n",
              "      <td>426</td>\n",
              "      <td>...</td>\n",
              "      <td>4</td>\n",
              "      <td>0</td>\n",
              "      <td>0</td>\n",
              "      <td>0</td>\n",
              "      <td>0</td>\n",
              "      <td>0</td>\n",
              "      <td>0</td>\n",
              "      <td>3</td>\n",
              "      <td>11</td>\n",
              "      <td>0</td>\n",
              "    </tr>\n",
              "    <tr>\n",
              "      <th>3</th>\n",
              "      <td>6182</td>\n",
              "      <td>1984</td>\n",
              "      <td>Graduation</td>\n",
              "      <td>Together</td>\n",
              "      <td>26646.0</td>\n",
              "      <td>1</td>\n",
              "      <td>0</td>\n",
              "      <td>10-02-2014</td>\n",
              "      <td>26</td>\n",
              "      <td>11</td>\n",
              "      <td>...</td>\n",
              "      <td>6</td>\n",
              "      <td>0</td>\n",
              "      <td>0</td>\n",
              "      <td>0</td>\n",
              "      <td>0</td>\n",
              "      <td>0</td>\n",
              "      <td>0</td>\n",
              "      <td>3</td>\n",
              "      <td>11</td>\n",
              "      <td>0</td>\n",
              "    </tr>\n",
              "    <tr>\n",
              "      <th>4</th>\n",
              "      <td>5324</td>\n",
              "      <td>1981</td>\n",
              "      <td>PhD</td>\n",
              "      <td>Married</td>\n",
              "      <td>58293.0</td>\n",
              "      <td>1</td>\n",
              "      <td>0</td>\n",
              "      <td>19-01-2014</td>\n",
              "      <td>94</td>\n",
              "      <td>173</td>\n",
              "      <td>...</td>\n",
              "      <td>5</td>\n",
              "      <td>0</td>\n",
              "      <td>0</td>\n",
              "      <td>0</td>\n",
              "      <td>0</td>\n",
              "      <td>0</td>\n",
              "      <td>0</td>\n",
              "      <td>3</td>\n",
              "      <td>11</td>\n",
              "      <td>0</td>\n",
              "    </tr>\n",
              "  </tbody>\n",
              "</table>\n",
              "<p>5 rows × 29 columns</p>\n",
              "</div>\n",
              "    <div class=\"colab-df-buttons\">\n",
              "\n",
              "  <div class=\"colab-df-container\">\n",
              "    <button class=\"colab-df-convert\" onclick=\"convertToInteractive('df-00b12cf7-6555-42c0-b7fa-51c41e1854f4')\"\n",
              "            title=\"Convert this dataframe to an interactive table.\"\n",
              "            style=\"display:none;\">\n",
              "\n",
              "  <svg xmlns=\"http://www.w3.org/2000/svg\" height=\"24px\" viewBox=\"0 -960 960 960\">\n",
              "    <path d=\"M120-120v-720h720v720H120Zm60-500h600v-160H180v160Zm220 220h160v-160H400v160Zm0 220h160v-160H400v160ZM180-400h160v-160H180v160Zm440 0h160v-160H620v160ZM180-180h160v-160H180v160Zm440 0h160v-160H620v160Z\"/>\n",
              "  </svg>\n",
              "    </button>\n",
              "\n",
              "  <style>\n",
              "    .colab-df-container {\n",
              "      display:flex;\n",
              "      gap: 12px;\n",
              "    }\n",
              "\n",
              "    .colab-df-convert {\n",
              "      background-color: #E8F0FE;\n",
              "      border: none;\n",
              "      border-radius: 50%;\n",
              "      cursor: pointer;\n",
              "      display: none;\n",
              "      fill: #1967D2;\n",
              "      height: 32px;\n",
              "      padding: 0 0 0 0;\n",
              "      width: 32px;\n",
              "    }\n",
              "\n",
              "    .colab-df-convert:hover {\n",
              "      background-color: #E2EBFA;\n",
              "      box-shadow: 0px 1px 2px rgba(60, 64, 67, 0.3), 0px 1px 3px 1px rgba(60, 64, 67, 0.15);\n",
              "      fill: #174EA6;\n",
              "    }\n",
              "\n",
              "    .colab-df-buttons div {\n",
              "      margin-bottom: 4px;\n",
              "    }\n",
              "\n",
              "    [theme=dark] .colab-df-convert {\n",
              "      background-color: #3B4455;\n",
              "      fill: #D2E3FC;\n",
              "    }\n",
              "\n",
              "    [theme=dark] .colab-df-convert:hover {\n",
              "      background-color: #434B5C;\n",
              "      box-shadow: 0px 1px 3px 1px rgba(0, 0, 0, 0.15);\n",
              "      filter: drop-shadow(0px 1px 2px rgba(0, 0, 0, 0.3));\n",
              "      fill: #FFFFFF;\n",
              "    }\n",
              "  </style>\n",
              "\n",
              "    <script>\n",
              "      const buttonEl =\n",
              "        document.querySelector('#df-00b12cf7-6555-42c0-b7fa-51c41e1854f4 button.colab-df-convert');\n",
              "      buttonEl.style.display =\n",
              "        google.colab.kernel.accessAllowed ? 'block' : 'none';\n",
              "\n",
              "      async function convertToInteractive(key) {\n",
              "        const element = document.querySelector('#df-00b12cf7-6555-42c0-b7fa-51c41e1854f4');\n",
              "        const dataTable =\n",
              "          await google.colab.kernel.invokeFunction('convertToInteractive',\n",
              "                                                    [key], {});\n",
              "        if (!dataTable) return;\n",
              "\n",
              "        const docLinkHtml = 'Like what you see? Visit the ' +\n",
              "          '<a target=\"_blank\" href=https://colab.research.google.com/notebooks/data_table.ipynb>data table notebook</a>'\n",
              "          + ' to learn more about interactive tables.';\n",
              "        element.innerHTML = '';\n",
              "        dataTable['output_type'] = 'display_data';\n",
              "        await google.colab.output.renderOutput(dataTable, element);\n",
              "        const docLink = document.createElement('div');\n",
              "        docLink.innerHTML = docLinkHtml;\n",
              "        element.appendChild(docLink);\n",
              "      }\n",
              "    </script>\n",
              "  </div>\n",
              "\n",
              "\n",
              "<div id=\"df-6fc7f5a4-87a3-46e2-bdb0-f56c95aacf64\">\n",
              "  <button class=\"colab-df-quickchart\" onclick=\"quickchart('df-6fc7f5a4-87a3-46e2-bdb0-f56c95aacf64')\"\n",
              "            title=\"Suggest charts\"\n",
              "            style=\"display:none;\">\n",
              "\n",
              "<svg xmlns=\"http://www.w3.org/2000/svg\" height=\"24px\"viewBox=\"0 0 24 24\"\n",
              "     width=\"24px\">\n",
              "    <g>\n",
              "        <path d=\"M19 3H5c-1.1 0-2 .9-2 2v14c0 1.1.9 2 2 2h14c1.1 0 2-.9 2-2V5c0-1.1-.9-2-2-2zM9 17H7v-7h2v7zm4 0h-2V7h2v10zm4 0h-2v-4h2v4z\"/>\n",
              "    </g>\n",
              "</svg>\n",
              "  </button>\n",
              "\n",
              "<style>\n",
              "  .colab-df-quickchart {\n",
              "      --bg-color: #E8F0FE;\n",
              "      --fill-color: #1967D2;\n",
              "      --hover-bg-color: #E2EBFA;\n",
              "      --hover-fill-color: #174EA6;\n",
              "      --disabled-fill-color: #AAA;\n",
              "      --disabled-bg-color: #DDD;\n",
              "  }\n",
              "\n",
              "  [theme=dark] .colab-df-quickchart {\n",
              "      --bg-color: #3B4455;\n",
              "      --fill-color: #D2E3FC;\n",
              "      --hover-bg-color: #434B5C;\n",
              "      --hover-fill-color: #FFFFFF;\n",
              "      --disabled-bg-color: #3B4455;\n",
              "      --disabled-fill-color: #666;\n",
              "  }\n",
              "\n",
              "  .colab-df-quickchart {\n",
              "    background-color: var(--bg-color);\n",
              "    border: none;\n",
              "    border-radius: 50%;\n",
              "    cursor: pointer;\n",
              "    display: none;\n",
              "    fill: var(--fill-color);\n",
              "    height: 32px;\n",
              "    padding: 0;\n",
              "    width: 32px;\n",
              "  }\n",
              "\n",
              "  .colab-df-quickchart:hover {\n",
              "    background-color: var(--hover-bg-color);\n",
              "    box-shadow: 0 1px 2px rgba(60, 64, 67, 0.3), 0 1px 3px 1px rgba(60, 64, 67, 0.15);\n",
              "    fill: var(--button-hover-fill-color);\n",
              "  }\n",
              "\n",
              "  .colab-df-quickchart-complete:disabled,\n",
              "  .colab-df-quickchart-complete:disabled:hover {\n",
              "    background-color: var(--disabled-bg-color);\n",
              "    fill: var(--disabled-fill-color);\n",
              "    box-shadow: none;\n",
              "  }\n",
              "\n",
              "  .colab-df-spinner {\n",
              "    border: 2px solid var(--fill-color);\n",
              "    border-color: transparent;\n",
              "    border-bottom-color: var(--fill-color);\n",
              "    animation:\n",
              "      spin 1s steps(1) infinite;\n",
              "  }\n",
              "\n",
              "  @keyframes spin {\n",
              "    0% {\n",
              "      border-color: transparent;\n",
              "      border-bottom-color: var(--fill-color);\n",
              "      border-left-color: var(--fill-color);\n",
              "    }\n",
              "    20% {\n",
              "      border-color: transparent;\n",
              "      border-left-color: var(--fill-color);\n",
              "      border-top-color: var(--fill-color);\n",
              "    }\n",
              "    30% {\n",
              "      border-color: transparent;\n",
              "      border-left-color: var(--fill-color);\n",
              "      border-top-color: var(--fill-color);\n",
              "      border-right-color: var(--fill-color);\n",
              "    }\n",
              "    40% {\n",
              "      border-color: transparent;\n",
              "      border-right-color: var(--fill-color);\n",
              "      border-top-color: var(--fill-color);\n",
              "    }\n",
              "    60% {\n",
              "      border-color: transparent;\n",
              "      border-right-color: var(--fill-color);\n",
              "    }\n",
              "    80% {\n",
              "      border-color: transparent;\n",
              "      border-right-color: var(--fill-color);\n",
              "      border-bottom-color: var(--fill-color);\n",
              "    }\n",
              "    90% {\n",
              "      border-color: transparent;\n",
              "      border-bottom-color: var(--fill-color);\n",
              "    }\n",
              "  }\n",
              "</style>\n",
              "\n",
              "  <script>\n",
              "    async function quickchart(key) {\n",
              "      const quickchartButtonEl =\n",
              "        document.querySelector('#' + key + ' button');\n",
              "      quickchartButtonEl.disabled = true;  // To prevent multiple clicks.\n",
              "      quickchartButtonEl.classList.add('colab-df-spinner');\n",
              "      try {\n",
              "        const charts = await google.colab.kernel.invokeFunction(\n",
              "            'suggestCharts', [key], {});\n",
              "      } catch (error) {\n",
              "        console.error('Error during call to suggestCharts:', error);\n",
              "      }\n",
              "      quickchartButtonEl.classList.remove('colab-df-spinner');\n",
              "      quickchartButtonEl.classList.add('colab-df-quickchart-complete');\n",
              "    }\n",
              "    (() => {\n",
              "      let quickchartButtonEl =\n",
              "        document.querySelector('#df-6fc7f5a4-87a3-46e2-bdb0-f56c95aacf64 button');\n",
              "      quickchartButtonEl.style.display =\n",
              "        google.colab.kernel.accessAllowed ? 'block' : 'none';\n",
              "    })();\n",
              "  </script>\n",
              "</div>\n",
              "\n",
              "    </div>\n",
              "  </div>\n"
            ],
            "text/plain": [
              "     ID  Year_Birth   Education Marital_Status   Income  Kidhome  Teenhome  \\\n",
              "0  5524        1957  Graduation         Single  58138.0        0         0   \n",
              "1  2174        1954  Graduation         Single  46344.0        1         1   \n",
              "2  4141        1965  Graduation       Together  71613.0        0         0   \n",
              "3  6182        1984  Graduation       Together  26646.0        1         0   \n",
              "4  5324        1981         PhD        Married  58293.0        1         0   \n",
              "\n",
              "  Dt_Customer  Recency  MntWines  ...  NumWebVisitsMonth  AcceptedCmp3  \\\n",
              "0  04-09-2012       58       635  ...                  7             0   \n",
              "1  08-03-2014       38        11  ...                  5             0   \n",
              "2  21-08-2013       26       426  ...                  4             0   \n",
              "3  10-02-2014       26        11  ...                  6             0   \n",
              "4  19-01-2014       94       173  ...                  5             0   \n",
              "\n",
              "   AcceptedCmp4  AcceptedCmp5  AcceptedCmp1  AcceptedCmp2  Complain  \\\n",
              "0             0             0             0             0         0   \n",
              "1             0             0             0             0         0   \n",
              "2             0             0             0             0         0   \n",
              "3             0             0             0             0         0   \n",
              "4             0             0             0             0         0   \n",
              "\n",
              "   Z_CostContact  Z_Revenue  Response  \n",
              "0              3         11         1  \n",
              "1              3         11         0  \n",
              "2              3         11         0  \n",
              "3              3         11         0  \n",
              "4              3         11         0  \n",
              "\n",
              "[5 rows x 29 columns]"
            ]
          },
          "execution_count": 6,
          "metadata": {},
          "output_type": "execute_result"
        }
      ],
      "source": [
        "df.head()"
      ]
    },
    {
      "cell_type": "code",
      "execution_count": 7,
      "metadata": {
        "colab": {
          "base_uri": "https://localhost:8080/",
          "height": 994
        },
        "id": "-yWyLoa2pmpz",
        "outputId": "c80b1d5a-8cdf-4347-8811-9cb854e33750"
      },
      "outputs": [
        {
          "data": {
            "text/html": [
              "<div>\n",
              "<style scoped>\n",
              "    .dataframe tbody tr th:only-of-type {\n",
              "        vertical-align: middle;\n",
              "    }\n",
              "\n",
              "    .dataframe tbody tr th {\n",
              "        vertical-align: top;\n",
              "    }\n",
              "\n",
              "    .dataframe thead th {\n",
              "        text-align: right;\n",
              "    }\n",
              "</style>\n",
              "<table border=\"1\" class=\"dataframe\">\n",
              "  <thead>\n",
              "    <tr style=\"text-align: right;\">\n",
              "      <th></th>\n",
              "      <th>0</th>\n",
              "    </tr>\n",
              "  </thead>\n",
              "  <tbody>\n",
              "    <tr>\n",
              "      <th>ID</th>\n",
              "      <td>int64</td>\n",
              "    </tr>\n",
              "    <tr>\n",
              "      <th>Year_Birth</th>\n",
              "      <td>int64</td>\n",
              "    </tr>\n",
              "    <tr>\n",
              "      <th>Education</th>\n",
              "      <td>object</td>\n",
              "    </tr>\n",
              "    <tr>\n",
              "      <th>Marital_Status</th>\n",
              "      <td>object</td>\n",
              "    </tr>\n",
              "    <tr>\n",
              "      <th>Income</th>\n",
              "      <td>float64</td>\n",
              "    </tr>\n",
              "    <tr>\n",
              "      <th>Kidhome</th>\n",
              "      <td>int64</td>\n",
              "    </tr>\n",
              "    <tr>\n",
              "      <th>Teenhome</th>\n",
              "      <td>int64</td>\n",
              "    </tr>\n",
              "    <tr>\n",
              "      <th>Dt_Customer</th>\n",
              "      <td>object</td>\n",
              "    </tr>\n",
              "    <tr>\n",
              "      <th>Recency</th>\n",
              "      <td>int64</td>\n",
              "    </tr>\n",
              "    <tr>\n",
              "      <th>MntWines</th>\n",
              "      <td>int64</td>\n",
              "    </tr>\n",
              "    <tr>\n",
              "      <th>MntFruits</th>\n",
              "      <td>int64</td>\n",
              "    </tr>\n",
              "    <tr>\n",
              "      <th>MntMeatProducts</th>\n",
              "      <td>int64</td>\n",
              "    </tr>\n",
              "    <tr>\n",
              "      <th>MntFishProducts</th>\n",
              "      <td>int64</td>\n",
              "    </tr>\n",
              "    <tr>\n",
              "      <th>MntSweetProducts</th>\n",
              "      <td>int64</td>\n",
              "    </tr>\n",
              "    <tr>\n",
              "      <th>MntGoldProds</th>\n",
              "      <td>int64</td>\n",
              "    </tr>\n",
              "    <tr>\n",
              "      <th>NumDealsPurchases</th>\n",
              "      <td>int64</td>\n",
              "    </tr>\n",
              "    <tr>\n",
              "      <th>NumWebPurchases</th>\n",
              "      <td>int64</td>\n",
              "    </tr>\n",
              "    <tr>\n",
              "      <th>NumCatalogPurchases</th>\n",
              "      <td>int64</td>\n",
              "    </tr>\n",
              "    <tr>\n",
              "      <th>NumStorePurchases</th>\n",
              "      <td>int64</td>\n",
              "    </tr>\n",
              "    <tr>\n",
              "      <th>NumWebVisitsMonth</th>\n",
              "      <td>int64</td>\n",
              "    </tr>\n",
              "    <tr>\n",
              "      <th>AcceptedCmp3</th>\n",
              "      <td>int64</td>\n",
              "    </tr>\n",
              "    <tr>\n",
              "      <th>AcceptedCmp4</th>\n",
              "      <td>int64</td>\n",
              "    </tr>\n",
              "    <tr>\n",
              "      <th>AcceptedCmp5</th>\n",
              "      <td>int64</td>\n",
              "    </tr>\n",
              "    <tr>\n",
              "      <th>AcceptedCmp1</th>\n",
              "      <td>int64</td>\n",
              "    </tr>\n",
              "    <tr>\n",
              "      <th>AcceptedCmp2</th>\n",
              "      <td>int64</td>\n",
              "    </tr>\n",
              "    <tr>\n",
              "      <th>Complain</th>\n",
              "      <td>int64</td>\n",
              "    </tr>\n",
              "    <tr>\n",
              "      <th>Z_CostContact</th>\n",
              "      <td>int64</td>\n",
              "    </tr>\n",
              "    <tr>\n",
              "      <th>Z_Revenue</th>\n",
              "      <td>int64</td>\n",
              "    </tr>\n",
              "    <tr>\n",
              "      <th>Response</th>\n",
              "      <td>int64</td>\n",
              "    </tr>\n",
              "  </tbody>\n",
              "</table>\n",
              "</div><br><label><b>dtype:</b> object</label>"
            ],
            "text/plain": [
              "ID                       int64\n",
              "Year_Birth               int64\n",
              "Education               object\n",
              "Marital_Status          object\n",
              "Income                 float64\n",
              "Kidhome                  int64\n",
              "Teenhome                 int64\n",
              "Dt_Customer             object\n",
              "Recency                  int64\n",
              "MntWines                 int64\n",
              "MntFruits                int64\n",
              "MntMeatProducts          int64\n",
              "MntFishProducts          int64\n",
              "MntSweetProducts         int64\n",
              "MntGoldProds             int64\n",
              "NumDealsPurchases        int64\n",
              "NumWebPurchases          int64\n",
              "NumCatalogPurchases      int64\n",
              "NumStorePurchases        int64\n",
              "NumWebVisitsMonth        int64\n",
              "AcceptedCmp3             int64\n",
              "AcceptedCmp4             int64\n",
              "AcceptedCmp5             int64\n",
              "AcceptedCmp1             int64\n",
              "AcceptedCmp2             int64\n",
              "Complain                 int64\n",
              "Z_CostContact            int64\n",
              "Z_Revenue                int64\n",
              "Response                 int64\n",
              "dtype: object"
            ]
          },
          "execution_count": 7,
          "metadata": {},
          "output_type": "execute_result"
        }
      ],
      "source": [
        "df.dtypes"
      ]
    },
    {
      "cell_type": "code",
      "execution_count": 8,
      "metadata": {
        "colab": {
          "base_uri": "https://localhost:8080/"
        },
        "id": "KS7Wjv3xCquL",
        "outputId": "76bad5ba-cbc0-4f93-f1c4-56b5264a060a"
      },
      "outputs": [
        {
          "name": "stdout",
          "output_type": "stream",
          "text": [
            "<class 'pandas.core.frame.DataFrame'>\n",
            "RangeIndex: 2240 entries, 0 to 2239\n",
            "Data columns (total 29 columns):\n",
            " #   Column               Non-Null Count  Dtype  \n",
            "---  ------               --------------  -----  \n",
            " 0   ID                   2240 non-null   int64  \n",
            " 1   Year_Birth           2240 non-null   int64  \n",
            " 2   Education            2240 non-null   object \n",
            " 3   Marital_Status       2240 non-null   object \n",
            " 4   Income               2216 non-null   float64\n",
            " 5   Kidhome              2240 non-null   int64  \n",
            " 6   Teenhome             2240 non-null   int64  \n",
            " 7   Dt_Customer          2240 non-null   object \n",
            " 8   Recency              2240 non-null   int64  \n",
            " 9   MntWines             2240 non-null   int64  \n",
            " 10  MntFruits            2240 non-null   int64  \n",
            " 11  MntMeatProducts      2240 non-null   int64  \n",
            " 12  MntFishProducts      2240 non-null   int64  \n",
            " 13  MntSweetProducts     2240 non-null   int64  \n",
            " 14  MntGoldProds         2240 non-null   int64  \n",
            " 15  NumDealsPurchases    2240 non-null   int64  \n",
            " 16  NumWebPurchases      2240 non-null   int64  \n",
            " 17  NumCatalogPurchases  2240 non-null   int64  \n",
            " 18  NumStorePurchases    2240 non-null   int64  \n",
            " 19  NumWebVisitsMonth    2240 non-null   int64  \n",
            " 20  AcceptedCmp3         2240 non-null   int64  \n",
            " 21  AcceptedCmp4         2240 non-null   int64  \n",
            " 22  AcceptedCmp5         2240 non-null   int64  \n",
            " 23  AcceptedCmp1         2240 non-null   int64  \n",
            " 24  AcceptedCmp2         2240 non-null   int64  \n",
            " 25  Complain             2240 non-null   int64  \n",
            " 26  Z_CostContact        2240 non-null   int64  \n",
            " 27  Z_Revenue            2240 non-null   int64  \n",
            " 28  Response             2240 non-null   int64  \n",
            "dtypes: float64(1), int64(25), object(3)\n",
            "memory usage: 507.6+ KB\n"
          ]
        }
      ],
      "source": [
        "df.info()"
      ]
    },
    {
      "cell_type": "code",
      "execution_count": 9,
      "metadata": {
        "colab": {
          "base_uri": "https://localhost:8080/",
          "height": 994
        },
        "id": "cLKZqZ8wpmm8",
        "outputId": "d465947c-c8d0-4ace-faa9-daf8684ad46a"
      },
      "outputs": [
        {
          "data": {
            "text/html": [
              "<div>\n",
              "<style scoped>\n",
              "    .dataframe tbody tr th:only-of-type {\n",
              "        vertical-align: middle;\n",
              "    }\n",
              "\n",
              "    .dataframe tbody tr th {\n",
              "        vertical-align: top;\n",
              "    }\n",
              "\n",
              "    .dataframe thead th {\n",
              "        text-align: right;\n",
              "    }\n",
              "</style>\n",
              "<table border=\"1\" class=\"dataframe\">\n",
              "  <thead>\n",
              "    <tr style=\"text-align: right;\">\n",
              "      <th></th>\n",
              "      <th>0</th>\n",
              "    </tr>\n",
              "  </thead>\n",
              "  <tbody>\n",
              "    <tr>\n",
              "      <th>ID</th>\n",
              "      <td>0</td>\n",
              "    </tr>\n",
              "    <tr>\n",
              "      <th>Year_Birth</th>\n",
              "      <td>0</td>\n",
              "    </tr>\n",
              "    <tr>\n",
              "      <th>Education</th>\n",
              "      <td>0</td>\n",
              "    </tr>\n",
              "    <tr>\n",
              "      <th>Marital_Status</th>\n",
              "      <td>0</td>\n",
              "    </tr>\n",
              "    <tr>\n",
              "      <th>Income</th>\n",
              "      <td>24</td>\n",
              "    </tr>\n",
              "    <tr>\n",
              "      <th>Kidhome</th>\n",
              "      <td>0</td>\n",
              "    </tr>\n",
              "    <tr>\n",
              "      <th>Teenhome</th>\n",
              "      <td>0</td>\n",
              "    </tr>\n",
              "    <tr>\n",
              "      <th>Dt_Customer</th>\n",
              "      <td>0</td>\n",
              "    </tr>\n",
              "    <tr>\n",
              "      <th>Recency</th>\n",
              "      <td>0</td>\n",
              "    </tr>\n",
              "    <tr>\n",
              "      <th>MntWines</th>\n",
              "      <td>0</td>\n",
              "    </tr>\n",
              "    <tr>\n",
              "      <th>MntFruits</th>\n",
              "      <td>0</td>\n",
              "    </tr>\n",
              "    <tr>\n",
              "      <th>MntMeatProducts</th>\n",
              "      <td>0</td>\n",
              "    </tr>\n",
              "    <tr>\n",
              "      <th>MntFishProducts</th>\n",
              "      <td>0</td>\n",
              "    </tr>\n",
              "    <tr>\n",
              "      <th>MntSweetProducts</th>\n",
              "      <td>0</td>\n",
              "    </tr>\n",
              "    <tr>\n",
              "      <th>MntGoldProds</th>\n",
              "      <td>0</td>\n",
              "    </tr>\n",
              "    <tr>\n",
              "      <th>NumDealsPurchases</th>\n",
              "      <td>0</td>\n",
              "    </tr>\n",
              "    <tr>\n",
              "      <th>NumWebPurchases</th>\n",
              "      <td>0</td>\n",
              "    </tr>\n",
              "    <tr>\n",
              "      <th>NumCatalogPurchases</th>\n",
              "      <td>0</td>\n",
              "    </tr>\n",
              "    <tr>\n",
              "      <th>NumStorePurchases</th>\n",
              "      <td>0</td>\n",
              "    </tr>\n",
              "    <tr>\n",
              "      <th>NumWebVisitsMonth</th>\n",
              "      <td>0</td>\n",
              "    </tr>\n",
              "    <tr>\n",
              "      <th>AcceptedCmp3</th>\n",
              "      <td>0</td>\n",
              "    </tr>\n",
              "    <tr>\n",
              "      <th>AcceptedCmp4</th>\n",
              "      <td>0</td>\n",
              "    </tr>\n",
              "    <tr>\n",
              "      <th>AcceptedCmp5</th>\n",
              "      <td>0</td>\n",
              "    </tr>\n",
              "    <tr>\n",
              "      <th>AcceptedCmp1</th>\n",
              "      <td>0</td>\n",
              "    </tr>\n",
              "    <tr>\n",
              "      <th>AcceptedCmp2</th>\n",
              "      <td>0</td>\n",
              "    </tr>\n",
              "    <tr>\n",
              "      <th>Complain</th>\n",
              "      <td>0</td>\n",
              "    </tr>\n",
              "    <tr>\n",
              "      <th>Z_CostContact</th>\n",
              "      <td>0</td>\n",
              "    </tr>\n",
              "    <tr>\n",
              "      <th>Z_Revenue</th>\n",
              "      <td>0</td>\n",
              "    </tr>\n",
              "    <tr>\n",
              "      <th>Response</th>\n",
              "      <td>0</td>\n",
              "    </tr>\n",
              "  </tbody>\n",
              "</table>\n",
              "</div><br><label><b>dtype:</b> int64</label>"
            ],
            "text/plain": [
              "ID                      0\n",
              "Year_Birth              0\n",
              "Education               0\n",
              "Marital_Status          0\n",
              "Income                 24\n",
              "Kidhome                 0\n",
              "Teenhome                0\n",
              "Dt_Customer             0\n",
              "Recency                 0\n",
              "MntWines                0\n",
              "MntFruits               0\n",
              "MntMeatProducts         0\n",
              "MntFishProducts         0\n",
              "MntSweetProducts        0\n",
              "MntGoldProds            0\n",
              "NumDealsPurchases       0\n",
              "NumWebPurchases         0\n",
              "NumCatalogPurchases     0\n",
              "NumStorePurchases       0\n",
              "NumWebVisitsMonth       0\n",
              "AcceptedCmp3            0\n",
              "AcceptedCmp4            0\n",
              "AcceptedCmp5            0\n",
              "AcceptedCmp1            0\n",
              "AcceptedCmp2            0\n",
              "Complain                0\n",
              "Z_CostContact           0\n",
              "Z_Revenue               0\n",
              "Response                0\n",
              "dtype: int64"
            ]
          },
          "execution_count": 9,
          "metadata": {},
          "output_type": "execute_result"
        }
      ],
      "source": [
        "df.isnull().sum() # Missing values per column"
      ]
    },
    {
      "cell_type": "code",
      "execution_count": 10,
      "metadata": {
        "colab": {
          "base_uri": "https://localhost:8080/"
        },
        "id": "p3bOt9YOpmj_",
        "outputId": "41efa79c-d881-4353-ce2d-1a255f190c02"
      },
      "outputs": [
        {
          "name": "stdout",
          "output_type": "stream",
          "text": [
            "Unique values in 'Education': ['Graduation' 'PhD' 'Master' 'Basic' '2n Cycle']\n",
            "Unique values in 'Marital_Status': ['Single' 'Together' 'Married' 'Divorced' 'Widow' 'Alone' 'Absurd' 'YOLO']\n",
            "Unique values in 'Dt_Customer': ['04-09-2012' '08-03-2014' '21-08-2013' '10-02-2014' '19-01-2014'\n",
            " '09-09-2013' '13-11-2012' '08-05-2013' '06-06-2013' '13-03-2014'\n",
            " '15-11-2013' '10-10-2012' '24-11-2012' '24-12-2012' '31-08-2012'\n",
            " '28-03-2013' '03-11-2012' '08-08-2012' '06-01-2013' '23-12-2012'\n",
            " '11-01-2014' '18-03-2013' '02-01-2013' '27-05-2013' '20-02-2013'\n",
            " '31-05-2013' '22-11-2013' '22-05-2014' '11-05-2013' '29-10-2012'\n",
            " '29-08-2013' '31-12-2013' '02-09-2013' '11-02-2014' '01-02-2013'\n",
            " '29-04-2013' '12-03-2013' '05-11-2013' '02-10-2013' '28-06-2014'\n",
            " '09-11-2012' '24-05-2013' '01-01-2014' '08-11-2012' '12-05-2014'\n",
            " '11-08-2012' '07-06-2014' '12-06-2013' '19-11-2012' '02-04-2013'\n",
            " '28-04-2014' '17-06-2013' '03-03-2014' '04-07-2013' '07-09-2012'\n",
            " '18-02-2013' '11-06-2013' '06-12-2013' '21-05-2013' '11-05-2014'\n",
            " '19-03-2014' '27-09-2013' '08-04-2013' '11-09-2012' '14-09-2012'\n",
            " '17-03-2013' '05-04-2013' '30-04-2014' '19-12-2012' '27-08-2012'\n",
            " '12-10-2012' '04-09-2013' '29-08-2012' '23-06-2013' '03-07-2013'\n",
            " '25-02-2014' '11-08-2013' '16-07-2013' '28-05-2014' '21-01-2014'\n",
            " '27-05-2014' '23-11-2013' '23-03-2014' '24-05-2014' '22-11-2012'\n",
            " '11-04-2013' '01-12-2013' '20-06-2013' '23-07-2013' '30-03-2014'\n",
            " '20-04-2013' '17-05-2013' '08-05-2014' '10-12-2013' '24-09-2013'\n",
            " '02-02-2013' '07-12-2012' '02-11-2013' '10-11-2012' '25-06-2014'\n",
            " '12-12-2012' '10-09-2013' '24-01-2014' '19-02-2013' '11-07-2013'\n",
            " '14-11-2013' '24-02-2014' '22-04-2013' '21-04-2013' '08-06-2014'\n",
            " '10-05-2014' '30-09-2013' '10-03-2013' '14-08-2013' '07-07-2013'\n",
            " '19-05-2014' '28-07-2013' '19-10-2012' '19-04-2013' '28-08-2013'\n",
            " '19-03-2013' '18-10-2012' '28-10-2012' '22-08-2012' '21-06-2014'\n",
            " '24-04-2014' '07-03-2014' '14-12-2012' '09-10-2012' '08-07-2013'\n",
            " '12-09-2013' '17-10-2013' '20-08-2013' '01-07-2013' '05-11-2012'\n",
            " '05-01-2014' '01-05-2013' '01-03-2014' '13-11-2013' '18-11-2013'\n",
            " '21-04-2014' '13-07-2013' '30-01-2014' '04-04-2014' '12-09-2012'\n",
            " '16-12-2012' '23-05-2014' '24-06-2014' '28-09-2013' '22-01-2014'\n",
            " '15-06-2014' '05-12-2012' '02-08-2013' '23-02-2013' '09-09-2012'\n",
            " '26-09-2013' '30-05-2013' '29-12-2013' '13-05-2014' '19-09-2013'\n",
            " '17-01-2013' '31-03-2014' '29-06-2014' '09-12-2013' '14-10-2013'\n",
            " '02-11-2012' '17-07-2013' '08-12-2013' '13-05-2013' '10-09-2012'\n",
            " '31-03-2013' '18-03-2014' '05-10-2012' '21-01-2013' '04-05-2013'\n",
            " '01-04-2014' '31-08-2013' '14-11-2012' '11-04-2014' '14-04-2014'\n",
            " '05-01-2013' '08-09-2012' '26-03-2013' '25-10-2012' '09-12-2012'\n",
            " '16-02-2014' '20-03-2013' '15-05-2013' '16-04-2014' '23-03-2013'\n",
            " '04-12-2013' '04-10-2013' '26-12-2013' '17-05-2014' '28-10-2013'\n",
            " '31-07-2013' '28-11-2013' '17-08-2012' '05-06-2014' '20-05-2013'\n",
            " '09-01-2013' '16-09-2013' '27-10-2013' '22-09-2012' '13-10-2012'\n",
            " '16-10-2012' '22-10-2012' '04-06-2013' '22-05-2013' '17-06-2014'\n",
            " '23-11-2012' '03-02-2013' '14-03-2013' '26-06-2014' '15-10-2012'\n",
            " '19-06-2013' '20-03-2014' '04-02-2014' '06-04-2014' '06-02-2013'\n",
            " '11-02-2013' '17-04-2014' '12-07-2013' '29-01-2013' '08-01-2013'\n",
            " '13-06-2013' '27-12-2013' '31-10-2012' '15-01-2014' '23-08-2012'\n",
            " '07-03-2013' '13-01-2013' '12-01-2013' '17-03-2014' '12-10-2013'\n",
            " '13-04-2014' '18-09-2012' '05-03-2014' '27-04-2013' '18-01-2014'\n",
            " '03-06-2013' '17-12-2013' '11-03-2014' '29-07-2013' '14-08-2012'\n",
            " '23-08-2013' '09-02-2014' '07-02-2013' '11-01-2013' '05-07-2013'\n",
            " '02-07-2013' '07-11-2013' '09-05-2013' '13-02-2013' '16-04-2013'\n",
            " '11-09-2013' '03-04-2013' '10-01-2013' '30-06-2013' '06-12-2012'\n",
            " '12-11-2012' '03-03-2013' '10-08-2012' '07-12-2013' '15-08-2013'\n",
            " '10-11-2013' '16-06-2014' '25-12-2012' '03-01-2014' '27-10-2012'\n",
            " '22-12-2012' '29-11-2013' '08-10-2013' '28-09-2012' '22-03-2014'\n",
            " '28-12-2012' '21-08-2012' '16-03-2013' '17-11-2012' '01-12-2012'\n",
            " '22-04-2014' '11-11-2012' '22-06-2013' '18-08-2012' '30-12-2012'\n",
            " '14-06-2013' '16-10-2013' '30-08-2012' '04-05-2014' '18-04-2013'\n",
            " '06-10-2013' '15-09-2012' '27-09-2012' '11-03-2013' '22-10-2013'\n",
            " '09-06-2014' '30-05-2014' '17-10-2012' '30-03-2013' '23-01-2013'\n",
            " '20-11-2013' '14-02-2014' '22-02-2013' '05-03-2013' '06-05-2014'\n",
            " '13-04-2013' '05-04-2014' '25-04-2013' '25-11-2013' '02-02-2014'\n",
            " '21-06-2013' '21-12-2013' '07-09-2013' '22-08-2013' '20-12-2013'\n",
            " '06-08-2013' '09-10-2013' '09-06-2013' '22-12-2013' '02-05-2013'\n",
            " '16-02-2013' '20-08-2012' '01-04-2013' '25-05-2014' '25-09-2012'\n",
            " '22-09-2013' '28-01-2014' '23-04-2013' '06-03-2014' '15-08-2012'\n",
            " '27-03-2013' '10-10-2013' '04-08-2012' '18-05-2014' '09-05-2014'\n",
            " '23-10-2012' '30-12-2013' '19-08-2012' '30-10-2013' '26-06-2013'\n",
            " '26-01-2014' '24-09-2012' '03-12-2012' '27-11-2013' '06-08-2012'\n",
            " '29-12-2012' '24-08-2012' '07-11-2012' '02-12-2013' '19-07-2013'\n",
            " '25-05-2013' '20-10-2013' '14-04-2013' '27-01-2014' '16-08-2013'\n",
            " '30-09-2012' '04-12-2012' '12-08-2012' '03-11-2013' '15-02-2013'\n",
            " '18-09-2013' '18-06-2014' '24-04-2013' '15-02-2014' '08-08-2013'\n",
            " '23-12-2013' '28-11-2012' '07-08-2013' '07-01-2014' '03-12-2013'\n",
            " '29-03-2014' '08-04-2014' '07-02-2014' '06-11-2013' '01-03-2013'\n",
            " '03-08-2013' '16-06-2013' '25-06-2013' '13-09-2013' '01-08-2013'\n",
            " '31-01-2013' '09-07-2013' '15-04-2013' '03-04-2014' '18-04-2014'\n",
            " '23-09-2012' '14-09-2013' '26-10-2012' '19-10-2013' '21-02-2013'\n",
            " '17-09-2013' '26-01-2013' '07-05-2014' '19-08-2013' '18-07-2013'\n",
            " '11-12-2012' '26-07-2013' '06-05-2013' '14-07-2013' '10-03-2014'\n",
            " '28-12-2013' '20-01-2013' '21-09-2012' '06-09-2012' '18-12-2012'\n",
            " '19-11-2013' '13-06-2014' '07-05-2013' '18-08-2013' '13-12-2013'\n",
            " '17-02-2014' '03-08-2012' '04-01-2014' '21-10-2013' '25-12-2013'\n",
            " '01-01-2013' '16-05-2013' '25-09-2013' '08-11-2013' '16-12-2013'\n",
            " '30-10-2012' '02-01-2014' '18-10-2013' '25-07-2013' '24-10-2013'\n",
            " '19-12-2013' '16-05-2014' '04-10-2012' '25-08-2013' '29-05-2013'\n",
            " '26-03-2014' '09-04-2014' '12-03-2014' '29-04-2014' '27-06-2014'\n",
            " '10-04-2013' '21-11-2013' '21-10-2012' '14-05-2013' '01-08-2012'\n",
            " '25-01-2014' '11-10-2013' '07-08-2012' '29-03-2013' '03-06-2014'\n",
            " '09-08-2012' '06-03-2013' '12-05-2013' '09-03-2014' '15-09-2013'\n",
            " '29-01-2014' '03-10-2013' '28-02-2013' '02-05-2014' '09-02-2013'\n",
            " '15-03-2013' '10-05-2013' '05-09-2012' '01-09-2013' '26-05-2013'\n",
            " '12-12-2013' '08-12-2012' '30-08-2013' '18-12-2013' '18-06-2013'\n",
            " '29-05-2014' '15-01-2013' '29-10-2013' '02-03-2013' '14-12-2013'\n",
            " '19-01-2013' '06-04-2013' '04-11-2013' '22-03-2013' '31-05-2014'\n",
            " '04-02-2013' '05-05-2013' '14-02-2013' '21-03-2014' '05-08-2013'\n",
            " '29-11-2012' '27-07-2013' '13-01-2014' '29-09-2012' '23-10-2013'\n",
            " '06-11-2012' '26-05-2014' '04-03-2014' '06-01-2014' '11-06-2014'\n",
            " '19-06-2014' '26-11-2012' '11-12-2013' '14-01-2014' '23-01-2014'\n",
            " '24-03-2013' '29-06-2013' '25-01-2013' '17-11-2013' '18-05-2013'\n",
            " '17-04-2013' '24-01-2013' '09-08-2013' '10-06-2013' '20-07-2013'\n",
            " '28-05-2013' '04-03-2013' '01-10-2012' '10-02-2013' '14-10-2012'\n",
            " '03-02-2014' '22-06-2014' '25-10-2013' '18-02-2014' '09-11-2013'\n",
            " '13-08-2013' '25-08-2012' '19-04-2014' '07-04-2014' '03-01-2013'\n",
            " '04-11-2012' '22-01-2013' '26-02-2014' '23-04-2014' '30-07-2013'\n",
            " '13-10-2013' '27-11-2012' '01-05-2014' '30-11-2012' '17-08-2013'\n",
            " '04-01-2013' '03-05-2014' '26-04-2014' '02-06-2014' '26-10-2013'\n",
            " '24-03-2014' '25-02-2013' '20-09-2013' '16-01-2013' '24-12-2013'\n",
            " '18-11-2012' '05-08-2012' '03-05-2013' '12-11-2013' '06-07-2013'\n",
            " '21-07-2013' '20-10-2012' '23-05-2013' '26-08-2012' '12-01-2014'\n",
            " '13-02-2014' '27-02-2014' '20-04-2014' '28-06-2013' '28-04-2013'\n",
            " '21-03-2013' '27-08-2013' '30-07-2012' '05-12-2013' '08-02-2013'\n",
            " '21-11-2012' '26-02-2013' '20-09-2012' '08-06-2013' '05-09-2013'\n",
            " '12-04-2014' '24-06-2013' '19-02-2014' '27-12-2012' '01-11-2012'\n",
            " '22-07-2013' '31-01-2014' '26-08-2013' '01-10-2013' '10-06-2014'\n",
            " '01-02-2014' '03-09-2012' '26-09-2012' '31-07-2012' '02-12-2012'\n",
            " '05-05-2014' '06-10-2012' '02-03-2014' '15-05-2014' '10-12-2012'\n",
            " '13-08-2012' '23-02-2014' '16-03-2014' '21-09-2013' '24-10-2012'\n",
            " '15-10-2013' '17-02-2013' '28-08-2012' '12-02-2014' '08-02-2014'\n",
            " '01-09-2012' '16-11-2012' '12-02-2013' '02-08-2012' '16-08-2012'\n",
            " '25-11-2012' '27-04-2014' '30-04-2013' '20-11-2012' '14-06-2014'\n",
            " '28-03-2014' '08-03-2013' '02-09-2012' '15-04-2014' '25-04-2014'\n",
            " '27-06-2013' '01-06-2013' '05-10-2013' '22-02-2014' '12-04-2013'\n",
            " '23-09-2013' '24-07-2013' '23-06-2014' '10-01-2014' '25-03-2013'\n",
            " '17-01-2014' '04-06-2014' '25-03-2014' '31-12-2012' '19-09-2012'\n",
            " '27-02-2013' '02-10-2012' '09-04-2013' '02-04-2014' '07-01-2013'\n",
            " '26-11-2013' '04-08-2013' '17-12-2012' '06-06-2014' '19-05-2013'\n",
            " '12-08-2013' '15-12-2013' '07-10-2012' '06-09-2013' '15-07-2013'\n",
            " '27-01-2013' '05-02-2014' '26-12-2012' '06-02-2014' '14-01-2013'\n",
            " '20-06-2014' '24-08-2013' '28-02-2014' '07-04-2013' '10-04-2014'\n",
            " '12-06-2014' '30-11-2013' '09-03-2013' '27-03-2014' '15-12-2012'\n",
            " '17-09-2012' '02-06-2013' '21-12-2012' '01-11-2013' '10-08-2013'\n",
            " '11-10-2012' '20-12-2012' '09-01-2014']\n"
          ]
        }
      ],
      "source": [
        "categorical_cols = df.select_dtypes(include=['object']).columns  # Select categorical columns\n",
        "for col in categorical_cols:\n",
        "    print(f\"Unique values in '{col}': {df[col].unique()}\")"
      ]
    },
    {
      "cell_type": "code",
      "execution_count": 11,
      "metadata": {
        "colab": {
          "base_uri": "https://localhost:8080/"
        },
        "id": "1zaCPfV2bgeX",
        "outputId": "782997fb-e83d-4fe0-8710-843037341e59"
      },
      "outputs": [
        {
          "name": "stdout",
          "output_type": "stream",
          "text": [
            "52247.25135379061\n"
          ]
        }
      ],
      "source": [
        "mean= df['Income'].mean()\n",
        "print(mean)"
      ]
    },
    {
      "cell_type": "code",
      "execution_count": 12,
      "metadata": {
        "id": "yVUd_USIpmhS"
      },
      "outputs": [],
      "source": [
        "df['Income']= df['Income'].fillna(mean)"
      ]
    },
    {
      "cell_type": "code",
      "execution_count": 13,
      "metadata": {
        "colab": {
          "base_uri": "https://localhost:8080/",
          "height": 994
        },
        "id": "qYkSKIkwaz6j",
        "outputId": "d949d1a0-4845-46f6-cca2-ce657df27d5e"
      },
      "outputs": [
        {
          "data": {
            "text/html": [
              "<div>\n",
              "<style scoped>\n",
              "    .dataframe tbody tr th:only-of-type {\n",
              "        vertical-align: middle;\n",
              "    }\n",
              "\n",
              "    .dataframe tbody tr th {\n",
              "        vertical-align: top;\n",
              "    }\n",
              "\n",
              "    .dataframe thead th {\n",
              "        text-align: right;\n",
              "    }\n",
              "</style>\n",
              "<table border=\"1\" class=\"dataframe\">\n",
              "  <thead>\n",
              "    <tr style=\"text-align: right;\">\n",
              "      <th></th>\n",
              "      <th>0</th>\n",
              "    </tr>\n",
              "  </thead>\n",
              "  <tbody>\n",
              "    <tr>\n",
              "      <th>ID</th>\n",
              "      <td>0</td>\n",
              "    </tr>\n",
              "    <tr>\n",
              "      <th>Year_Birth</th>\n",
              "      <td>0</td>\n",
              "    </tr>\n",
              "    <tr>\n",
              "      <th>Education</th>\n",
              "      <td>0</td>\n",
              "    </tr>\n",
              "    <tr>\n",
              "      <th>Marital_Status</th>\n",
              "      <td>0</td>\n",
              "    </tr>\n",
              "    <tr>\n",
              "      <th>Income</th>\n",
              "      <td>0</td>\n",
              "    </tr>\n",
              "    <tr>\n",
              "      <th>Kidhome</th>\n",
              "      <td>0</td>\n",
              "    </tr>\n",
              "    <tr>\n",
              "      <th>Teenhome</th>\n",
              "      <td>0</td>\n",
              "    </tr>\n",
              "    <tr>\n",
              "      <th>Dt_Customer</th>\n",
              "      <td>0</td>\n",
              "    </tr>\n",
              "    <tr>\n",
              "      <th>Recency</th>\n",
              "      <td>0</td>\n",
              "    </tr>\n",
              "    <tr>\n",
              "      <th>MntWines</th>\n",
              "      <td>0</td>\n",
              "    </tr>\n",
              "    <tr>\n",
              "      <th>MntFruits</th>\n",
              "      <td>0</td>\n",
              "    </tr>\n",
              "    <tr>\n",
              "      <th>MntMeatProducts</th>\n",
              "      <td>0</td>\n",
              "    </tr>\n",
              "    <tr>\n",
              "      <th>MntFishProducts</th>\n",
              "      <td>0</td>\n",
              "    </tr>\n",
              "    <tr>\n",
              "      <th>MntSweetProducts</th>\n",
              "      <td>0</td>\n",
              "    </tr>\n",
              "    <tr>\n",
              "      <th>MntGoldProds</th>\n",
              "      <td>0</td>\n",
              "    </tr>\n",
              "    <tr>\n",
              "      <th>NumDealsPurchases</th>\n",
              "      <td>0</td>\n",
              "    </tr>\n",
              "    <tr>\n",
              "      <th>NumWebPurchases</th>\n",
              "      <td>0</td>\n",
              "    </tr>\n",
              "    <tr>\n",
              "      <th>NumCatalogPurchases</th>\n",
              "      <td>0</td>\n",
              "    </tr>\n",
              "    <tr>\n",
              "      <th>NumStorePurchases</th>\n",
              "      <td>0</td>\n",
              "    </tr>\n",
              "    <tr>\n",
              "      <th>NumWebVisitsMonth</th>\n",
              "      <td>0</td>\n",
              "    </tr>\n",
              "    <tr>\n",
              "      <th>AcceptedCmp3</th>\n",
              "      <td>0</td>\n",
              "    </tr>\n",
              "    <tr>\n",
              "      <th>AcceptedCmp4</th>\n",
              "      <td>0</td>\n",
              "    </tr>\n",
              "    <tr>\n",
              "      <th>AcceptedCmp5</th>\n",
              "      <td>0</td>\n",
              "    </tr>\n",
              "    <tr>\n",
              "      <th>AcceptedCmp1</th>\n",
              "      <td>0</td>\n",
              "    </tr>\n",
              "    <tr>\n",
              "      <th>AcceptedCmp2</th>\n",
              "      <td>0</td>\n",
              "    </tr>\n",
              "    <tr>\n",
              "      <th>Complain</th>\n",
              "      <td>0</td>\n",
              "    </tr>\n",
              "    <tr>\n",
              "      <th>Z_CostContact</th>\n",
              "      <td>0</td>\n",
              "    </tr>\n",
              "    <tr>\n",
              "      <th>Z_Revenue</th>\n",
              "      <td>0</td>\n",
              "    </tr>\n",
              "    <tr>\n",
              "      <th>Response</th>\n",
              "      <td>0</td>\n",
              "    </tr>\n",
              "  </tbody>\n",
              "</table>\n",
              "</div><br><label><b>dtype:</b> int64</label>"
            ],
            "text/plain": [
              "ID                     0\n",
              "Year_Birth             0\n",
              "Education              0\n",
              "Marital_Status         0\n",
              "Income                 0\n",
              "Kidhome                0\n",
              "Teenhome               0\n",
              "Dt_Customer            0\n",
              "Recency                0\n",
              "MntWines               0\n",
              "MntFruits              0\n",
              "MntMeatProducts        0\n",
              "MntFishProducts        0\n",
              "MntSweetProducts       0\n",
              "MntGoldProds           0\n",
              "NumDealsPurchases      0\n",
              "NumWebPurchases        0\n",
              "NumCatalogPurchases    0\n",
              "NumStorePurchases      0\n",
              "NumWebVisitsMonth      0\n",
              "AcceptedCmp3           0\n",
              "AcceptedCmp4           0\n",
              "AcceptedCmp5           0\n",
              "AcceptedCmp1           0\n",
              "AcceptedCmp2           0\n",
              "Complain               0\n",
              "Z_CostContact          0\n",
              "Z_Revenue              0\n",
              "Response               0\n",
              "dtype: int64"
            ]
          },
          "execution_count": 13,
          "metadata": {},
          "output_type": "execute_result"
        }
      ],
      "source": [
        "df.isnull().sum() # Missing values per column"
      ]
    },
    {
      "cell_type": "markdown",
      "metadata": {
        "id": "Rkws45nUT32S"
      },
      "source": [
        "**Feature Engineering**"
      ]
    },
    {
      "cell_type": "markdown",
      "metadata": {
        "id": "t0aoZ3HZC_OG"
      },
      "source": [
        "Let us create a new column Age by using year of birth"
      ]
    },
    {
      "cell_type": "code",
      "execution_count": 14,
      "metadata": {
        "id": "wMytxC8BDB-p"
      },
      "outputs": [],
      "source": [
        "df['Age']= 2025-df['Year_Birth']"
      ]
    },
    {
      "cell_type": "code",
      "execution_count": 15,
      "metadata": {
        "colab": {
          "base_uri": "https://localhost:8080/",
          "height": 458
        },
        "id": "pN2LvgN7DB1y",
        "outputId": "a027f94d-cc9d-4744-c6cb-17bce22809ca"
      },
      "outputs": [
        {
          "data": {
            "text/html": [
              "<div>\n",
              "<style scoped>\n",
              "    .dataframe tbody tr th:only-of-type {\n",
              "        vertical-align: middle;\n",
              "    }\n",
              "\n",
              "    .dataframe tbody tr th {\n",
              "        vertical-align: top;\n",
              "    }\n",
              "\n",
              "    .dataframe thead th {\n",
              "        text-align: right;\n",
              "    }\n",
              "</style>\n",
              "<table border=\"1\" class=\"dataframe\">\n",
              "  <thead>\n",
              "    <tr style=\"text-align: right;\">\n",
              "      <th></th>\n",
              "      <th>Age</th>\n",
              "    </tr>\n",
              "  </thead>\n",
              "  <tbody>\n",
              "    <tr>\n",
              "      <th>0</th>\n",
              "      <td>68</td>\n",
              "    </tr>\n",
              "    <tr>\n",
              "      <th>1</th>\n",
              "      <td>71</td>\n",
              "    </tr>\n",
              "    <tr>\n",
              "      <th>2</th>\n",
              "      <td>60</td>\n",
              "    </tr>\n",
              "    <tr>\n",
              "      <th>3</th>\n",
              "      <td>41</td>\n",
              "    </tr>\n",
              "    <tr>\n",
              "      <th>4</th>\n",
              "      <td>44</td>\n",
              "    </tr>\n",
              "    <tr>\n",
              "      <th>...</th>\n",
              "      <td>...</td>\n",
              "    </tr>\n",
              "    <tr>\n",
              "      <th>2235</th>\n",
              "      <td>58</td>\n",
              "    </tr>\n",
              "    <tr>\n",
              "      <th>2236</th>\n",
              "      <td>79</td>\n",
              "    </tr>\n",
              "    <tr>\n",
              "      <th>2237</th>\n",
              "      <td>44</td>\n",
              "    </tr>\n",
              "    <tr>\n",
              "      <th>2238</th>\n",
              "      <td>69</td>\n",
              "    </tr>\n",
              "    <tr>\n",
              "      <th>2239</th>\n",
              "      <td>71</td>\n",
              "    </tr>\n",
              "  </tbody>\n",
              "</table>\n",
              "<p>2240 rows × 1 columns</p>\n",
              "</div><br><label><b>dtype:</b> int64</label>"
            ],
            "text/plain": [
              "0       68\n",
              "1       71\n",
              "2       60\n",
              "3       41\n",
              "4       44\n",
              "        ..\n",
              "2235    58\n",
              "2236    79\n",
              "2237    44\n",
              "2238    69\n",
              "2239    71\n",
              "Name: Age, Length: 2240, dtype: int64"
            ]
          },
          "execution_count": 15,
          "metadata": {},
          "output_type": "execute_result"
        }
      ],
      "source": [
        "df['Age']"
      ]
    },
    {
      "cell_type": "markdown",
      "metadata": {
        "id": "fayULtTrFQTL"
      },
      "source": [
        "Creating extra features like total money spent, family size"
      ]
    },
    {
      "cell_type": "code",
      "execution_count": 16,
      "metadata": {
        "colab": {
          "base_uri": "https://localhost:8080/"
        },
        "id": "ndrxzcLyT00z",
        "outputId": "10704f6e-31e7-4ae5-89e4-28643ff6e79c"
      },
      "outputs": [
        {
          "name": "stderr",
          "output_type": "stream",
          "text": [
            "<ipython-input-16-3021fa9eace0>:6: FutureWarning: Downcasting behavior in `replace` is deprecated and will be removed in a future version. To retain the old behavior, explicitly call `result.infer_objects(copy=False)`. To opt-in to the future behavior, set `pd.set_option('future.no_silent_downcasting', True)`\n",
            "  df[\"Relation\"] = df[\"Marital_Status\"].replace({\"Married\": 2, \"Together\": 2, \"Absurd\": 1, \"Widow\": 1, \"YOLO\": 1, \"Divorced\": 1, \"Single\": 1, \"Alone\": 1})\n"
          ]
        }
      ],
      "source": [
        "# Calculate Total Spending\n",
        "spending_cols = ['MntWines', 'MntFruits', 'MntMeatProducts', 'MntFishProducts', 'MntSweetProducts', 'MntGoldProds']\n",
        "df['TotalSpending'] = df[spending_cols].sum(axis=1)\n",
        "\n",
        "#Calculate family size\n",
        "df[\"Relation\"] = df[\"Marital_Status\"].replace({\"Married\": 2, \"Together\": 2, \"Absurd\": 1, \"Widow\": 1, \"YOLO\": 1, \"Divorced\": 1, \"Single\": 1, \"Alone\": 1})\n",
        "df[\"Children\"] = df[\"Kidhome\"]+ df[\"Teenhome\"]\n",
        "df[\"Family_Size\"] = df[\"Relation\"]+ df[\"Children\"]"
      ]
    },
    {
      "cell_type": "code",
      "execution_count": 17,
      "metadata": {
        "colab": {
          "base_uri": "https://localhost:8080/"
        },
        "id": "ZVvgBoHQKBMc",
        "outputId": "69684a53-59f9-4dad-8216-f57d8510495f"
      },
      "outputs": [
        {
          "name": "stdout",
          "output_type": "stream",
          "text": [
            "   TotalSpending  Family_Size\n",
            "0           1617            1\n",
            "1             27            3\n",
            "2            776            2\n",
            "3             53            3\n",
            "4            422            3\n"
          ]
        }
      ],
      "source": [
        "print(df[['TotalSpending', 'Family_Size']].head())"
      ]
    },
    {
      "cell_type": "code",
      "execution_count": 18,
      "metadata": {
        "id": "NPbSKNB7FAJF"
      },
      "outputs": [],
      "source": [
        "df= df.drop(['Relation','Children'],axis=1)"
      ]
    },
    {
      "cell_type": "code",
      "execution_count": 19,
      "metadata": {
        "colab": {
          "base_uri": "https://localhost:8080/"
        },
        "id": "ZIXHoMceFFR9",
        "outputId": "125e1c48-7e4f-4f5f-f73b-93b4dd0f546b"
      },
      "outputs": [
        {
          "data": {
            "text/plain": [
              "Index(['ID', 'Year_Birth', 'Education', 'Marital_Status', 'Income', 'Kidhome',\n",
              "       'Teenhome', 'Dt_Customer', 'Recency', 'MntWines', 'MntFruits',\n",
              "       'MntMeatProducts', 'MntFishProducts', 'MntSweetProducts',\n",
              "       'MntGoldProds', 'NumDealsPurchases', 'NumWebPurchases',\n",
              "       'NumCatalogPurchases', 'NumStorePurchases', 'NumWebVisitsMonth',\n",
              "       'AcceptedCmp3', 'AcceptedCmp4', 'AcceptedCmp5', 'AcceptedCmp1',\n",
              "       'AcceptedCmp2', 'Complain', 'Z_CostContact', 'Z_Revenue', 'Response',\n",
              "       'Age', 'TotalSpending', 'Family_Size'],\n",
              "      dtype='object')"
            ]
          },
          "execution_count": 19,
          "metadata": {},
          "output_type": "execute_result"
        }
      ],
      "source": [
        "df.columns"
      ]
    },
    {
      "cell_type": "code",
      "execution_count": 20,
      "metadata": {
        "colab": {
          "base_uri": "https://localhost:8080/",
          "height": 272
        },
        "id": "qQ0uDg_BDL8I",
        "outputId": "71b18146-7d4b-4ecb-cc6f-9af61acd058c"
      },
      "outputs": [
        {
          "data": {
            "text/html": [
              "<div>\n",
              "<style scoped>\n",
              "    .dataframe tbody tr th:only-of-type {\n",
              "        vertical-align: middle;\n",
              "    }\n",
              "\n",
              "    .dataframe tbody tr th {\n",
              "        vertical-align: top;\n",
              "    }\n",
              "\n",
              "    .dataframe thead th {\n",
              "        text-align: right;\n",
              "    }\n",
              "</style>\n",
              "<table border=\"1\" class=\"dataframe\">\n",
              "  <thead>\n",
              "    <tr style=\"text-align: right;\">\n",
              "      <th></th>\n",
              "      <th>count</th>\n",
              "    </tr>\n",
              "    <tr>\n",
              "      <th>Education</th>\n",
              "      <th></th>\n",
              "    </tr>\n",
              "  </thead>\n",
              "  <tbody>\n",
              "    <tr>\n",
              "      <th>Graduation</th>\n",
              "      <td>1127</td>\n",
              "    </tr>\n",
              "    <tr>\n",
              "      <th>PhD</th>\n",
              "      <td>486</td>\n",
              "    </tr>\n",
              "    <tr>\n",
              "      <th>Master</th>\n",
              "      <td>370</td>\n",
              "    </tr>\n",
              "    <tr>\n",
              "      <th>2n Cycle</th>\n",
              "      <td>203</td>\n",
              "    </tr>\n",
              "    <tr>\n",
              "      <th>Basic</th>\n",
              "      <td>54</td>\n",
              "    </tr>\n",
              "  </tbody>\n",
              "</table>\n",
              "</div><br><label><b>dtype:</b> int64</label>"
            ],
            "text/plain": [
              "Education\n",
              "Graduation    1127\n",
              "PhD            486\n",
              "Master         370\n",
              "2n Cycle       203\n",
              "Basic           54\n",
              "Name: count, dtype: int64"
            ]
          },
          "execution_count": 20,
          "metadata": {},
          "output_type": "execute_result"
        }
      ],
      "source": [
        "df['Education'].value_counts()"
      ]
    },
    {
      "cell_type": "markdown",
      "metadata": {
        "id": "esvTKDmccU4G"
      },
      "source": [
        "Separating Features and Target"
      ]
    },
    {
      "cell_type": "code",
      "execution_count": 21,
      "metadata": {
        "id": "ekLzAU7rcUMW"
      },
      "outputs": [],
      "source": [
        "# Define target variable\n",
        "y = df[\"Response\"]  # Target variable\n",
        "\n",
        "# Define feature variables (excluding the target column)\n",
        "X = df.drop(columns=[\"Response\"])"
      ]
    },
    {
      "cell_type": "markdown",
      "metadata": {
        "id": "xr1tiuo2ckZW"
      },
      "source": [
        "Encode categorical columns using One-Hot Encoding for nominal data"
      ]
    },
    {
      "cell_type": "code",
      "execution_count": 22,
      "metadata": {
        "id": "go_E3e--ctJ3"
      },
      "outputs": [],
      "source": [
        "# Select categorical columns (object dtype)\n",
        "categorical_cols = X.select_dtypes(include=['object']).columns\n",
        "\n",
        "# Apply One-Hot Encoding\n",
        "X_encoded = pd.get_dummies(X, columns=categorical_cols, drop_first=True)  # Avoid dummy variable trap"
      ]
    },
    {
      "cell_type": "markdown",
      "metadata": {
        "id": "k7tqaiJTc1Wu"
      },
      "source": [
        "Normalize/Scale Numerical Features using StandardScaler"
      ]
    },
    {
      "cell_type": "code",
      "execution_count": 23,
      "metadata": {
        "id": "AqW1SKr2c7ug"
      },
      "outputs": [],
      "source": [
        "# Select numerical columns\n",
        "numerical_cols = X_encoded.select_dtypes(include=['int64', 'float64']).columns\n",
        "\n",
        "# Apply StandardScaler\n",
        "scaler = StandardScaler()\n",
        "X_encoded[numerical_cols] = scaler.fit_transform(X_encoded[numerical_cols])"
      ]
    },
    {
      "cell_type": "markdown",
      "metadata": {
        "id": "xD3lgPOUdCIN"
      },
      "source": [
        "Train-Test Split"
      ]
    },
    {
      "cell_type": "code",
      "execution_count": 24,
      "metadata": {
        "id": "uyq00KxpdDYh"
      },
      "outputs": [],
      "source": [
        "# Split into training and testing sets\n",
        "X_train, X_test, y_train, y_test = train_test_split(X_encoded, y, test_size=0.2, random_state=42, stratify=y)"
      ]
    },
    {
      "cell_type": "markdown",
      "metadata": {
        "id": "QCfb2C3zF81G"
      },
      "source": [
        "# Model Selection\n",
        "1. Logistic Regression - Good for interpretability, but may struggle with complex relationships.\n",
        "2. Decision Tree - Captures non-linear patterns but prone to overfitting.\n",
        "3. Random Forest - Reduces overfitting, performs well with feature interactions.\n",
        "\n"
      ]
    },
    {
      "cell_type": "code",
      "execution_count": 25,
      "metadata": {
        "id": "FlucQtwWzeF2"
      },
      "outputs": [],
      "source": [
        "from sklearn.linear_model import LogisticRegression\n",
        "from sklearn.tree import DecisionTreeClassifier"
      ]
    },
    {
      "cell_type": "markdown",
      "metadata": {
        "id": "CuCgH_WYKmv9"
      },
      "source": [
        "**Logistic Regression Model**"
      ]
    },
    {
      "cell_type": "code",
      "execution_count": 26,
      "metadata": {
        "colab": {
          "base_uri": "https://localhost:8080/"
        },
        "id": "Vqw1pRxXzjgS",
        "outputId": "4338070f-fe91-4297-82c0-fa7edfd57feb"
      },
      "outputs": [
        {
          "name": "stdout",
          "output_type": "stream",
          "text": [
            "Logistic Regression Accuracy: 0.8861607142857143\n",
            "Classification Report:\n",
            "               precision    recall  f1-score   support\n",
            "\n",
            "           0       0.90      0.97      0.94       381\n",
            "           1       0.72      0.39      0.50        67\n",
            "\n",
            "    accuracy                           0.89       448\n",
            "   macro avg       0.81      0.68      0.72       448\n",
            "weighted avg       0.87      0.89      0.87       448\n",
            "\n"
          ]
        }
      ],
      "source": [
        "# Logistic Regression Model\n",
        "log_reg = LogisticRegression(max_iter=1000, random_state=42)\n",
        "log_reg.fit(X_train, y_train)\n",
        "y_pred_log = log_reg.predict(X_test)\n",
        "\n",
        "print(\"Logistic Regression Accuracy:\", accuracy_score(y_test, y_pred_log))\n",
        "print(\"Classification Report:\\n\", classification_report(y_test, y_pred_log))\n"
      ]
    },
    {
      "cell_type": "code",
      "execution_count": 27,
      "metadata": {
        "colab": {
          "base_uri": "https://localhost:8080/",
          "height": 619
        },
        "id": "cXYDYZr4Diwf",
        "outputId": "08880615-044d-490a-80e1-d834d8c624e5"
      },
      "outputs": [
        {
          "name": "stderr",
          "output_type": "stream",
          "text": [
            "/usr/local/lib/python3.11/dist-packages/sklearn/utils/validation.py:2739: UserWarning: X does not have valid feature names, but LogisticRegression was fitted with feature names\n",
            "  warnings.warn(\n"
          ]
        },
        {
          "data": {
            "image/png": "[encoded data removed]",
            "text/plain": [
              "<Figure size 800x600 with 1 Axes>"
            ]
          },
          "metadata": {},
          "output_type": "display_data"
        }
      ],
      "source": [
        "# Selecting 'Income' and 'Recency' as features for visualization\n",
        "X_subset = X_train[['Income', 'Recency']]\n",
        "y_subset = y_train  # target variable\n",
        "\n",
        "# Train Logistic Regression model\n",
        "log_reg = LogisticRegression(max_iter=1000, random_state=42)\n",
        "log_reg.fit(X_subset, y_subset)\n",
        "\n",
        "x_min, x_max = X_subset.iloc[:, 0].min() - 1, X_subset.iloc[:, 0].max() + 1\n",
        "y_min, y_max = X_subset.iloc[:, 1].min() - 1, X_subset.iloc[:, 1].max() + 1\n",
        "\n",
        "xx, yy = np.meshgrid(np.linspace(x_min, x_max, 100),\n",
        "                     np.linspace(y_min, y_max, 100))\n",
        "\n",
        "# Get decision boundary prediction\n",
        "Z = log_reg.predict(np.c_[xx.ravel(), yy.ravel()])\n",
        "Z = Z.reshape(xx.shape)\n",
        "\n",
        "plt.figure(figsize=(8, 6))\n",
        "plt.scatter(X_subset.iloc[:, 0], X_subset.iloc[:, 1], c=y_subset, edgecolors='k', marker='o', s=50)\n",
        "\n",
        "# Plot the decision boundary\n",
        "plt.plot(xx[0], yy[0], 'k-', linewidth=2)\n",
        "plt.title(\"Decision Boundary for Logistic Regression\")\n",
        "plt.xlabel(\"Income\")\n",
        "plt.ylabel(\"Recency\")\n",
        "plt.show()"
      ]
    },
    {
      "cell_type": "markdown",
      "metadata": {
        "id": "_-N8m8zKKs0e"
      },
      "source": [
        "**Decision Tree Model**"
      ]
    },
    {
      "cell_type": "code",
      "execution_count": 28,
      "metadata": {
        "colab": {
          "base_uri": "https://localhost:8080/"
        },
        "id": "Lw-BBEkYznEl",
        "outputId": "d87854b9-ff8d-49dc-fe19-351eeea02261"
      },
      "outputs": [
        {
          "name": "stdout",
          "output_type": "stream",
          "text": [
            "Decision Tree Accuracy: 0.8616071428571429\n",
            "Classification Report:\n",
            "               precision    recall  f1-score   support\n",
            "\n",
            "           0       0.91      0.93      0.92       381\n",
            "           1       0.55      0.45      0.49        67\n",
            "\n",
            "    accuracy                           0.86       448\n",
            "   macro avg       0.73      0.69      0.71       448\n",
            "weighted avg       0.85      0.86      0.86       448\n",
            "\n"
          ]
        }
      ],
      "source": [
        "# Decision Tree Model\n",
        "dt_model = DecisionTreeClassifier(random_state=42)\n",
        "dt_model.fit(X_train, y_train)\n",
        "y_pred_dt = dt_model.predict(X_test)\n",
        "\n",
        "print(\"Decision Tree Accuracy:\", accuracy_score(y_test, y_pred_dt))\n",
        "print(\"Classification Report:\\n\", classification_report(y_test, y_pred_dt))"
      ]
    },
    {
      "cell_type": "markdown",
      "metadata": {
        "id": "fKFYDE2OLe_g"
      },
      "source": [
        "**Random Forest Model**\n"
      ]
    },
    {
      "cell_type": "code",
      "execution_count": 29,
      "metadata": {
        "colab": {
          "base_uri": "https://localhost:8080/",
          "height": 967
        },
        "id": "tSUmzh6IjVvQ",
        "outputId": "e80d33c8-43f4-4162-fc05-e78c59565b15"
      },
      "outputs": [
        {
          "name": "stdout",
          "output_type": "stream",
          "text": [
            "Fitting 5 folds for each of 81 candidates, totalling 405 fits\n",
            "Optimized Random Forest Accuracy: 0.890625\n",
            "Classification Report:\n",
            "               precision    recall  f1-score   support\n",
            "\n",
            "           0       0.90      0.98      0.94       381\n",
            "           1       0.78      0.37      0.51        67\n",
            "\n",
            "    accuracy                           0.89       448\n",
            "   macro avg       0.84      0.68      0.72       448\n",
            "weighted avg       0.88      0.89      0.87       448\n",
            "\n"
          ]
        },
        {
          "data": {
            "image/png": "[encoded data removed]",
            "text/plain": [
              "<Figure size 1200x600 with 1 Axes>"
            ]
          },
          "metadata": {},
          "output_type": "display_data"
        },
        {
          "name": "stdout",
          "output_type": "stream",
          "text": [
            "\n",
            "Performance Summary:\n",
            "- Model achieved 89.06% accuracy.\n",
            "- Precision, Recall, and F1-Score are evaluated for both classes.\n",
            "- The model's performance on the imbalanced dataset is analyzed using class weights.\n",
            "- Future improvements: Consider tuning hyperparameters or experimenting with more advanced models like XGBoost.\n"
          ]
        }
      ],
      "source": [
        "from sklearn.model_selection import GridSearchCV\n",
        "\n",
        "# Define the Random Forest model with Class Weighting\n",
        "rf_model = RandomForestClassifier(class_weight='balanced', random_state=42)\n",
        "\n",
        "# Define Hyperparameter Grid for GridSearchCV\n",
        "param_grid = {\n",
        "    'n_estimators': [50, 100, 200],\n",
        "    'max_depth': [None, 10, 20],\n",
        "    'min_samples_split': [2, 5, 10],\n",
        "    'min_samples_leaf': [1, 2, 4]\n",
        "}\n",
        "\n",
        "# Perform GridSearchCV for Hyperparameter Tuning\n",
        "grid_search = GridSearchCV(rf_model, param_grid, cv=5, scoring='accuracy', n_jobs=-1, verbose=1)\n",
        "grid_search.fit(X_train, y_train)\n",
        "\n",
        "# Get the best model after tuning\n",
        "best_model = grid_search.best_estimator_\n",
        "\n",
        "# Predictions\n",
        "y_pred = best_model.predict(X_test)\n",
        "\n",
        "# Final Performance Report\n",
        "print(\"Optimized Random Forest Accuracy:\", accuracy_score(y_test, y_pred))\n",
        "print(\"Classification Report:\\n\", classification_report(y_test, y_pred))\n",
        "\n",
        "# Feature Importance Analysis (Top 20 Features)\n",
        "feature_importances = best_model.feature_importances_\n",
        "\n",
        "# Get feature names directly from X_train (assuming X_train is a DataFrame)\n",
        "feature_names = X_train.columns\n",
        "\n",
        "# Sort features by importance (descending order)\n",
        "indices = np.argsort(feature_importances)[::-1]\n",
        "\n",
        "# Select Top 20 Features\n",
        "top_n = 20\n",
        "top_features = np.array(feature_names)[indices][:top_n]\n",
        "top_importances = feature_importances[indices][:top_n]\n",
        "\n",
        "# Plot Feature Importance (Top 20)\n",
        "plt.figure(figsize=(12, 6))\n",
        "plt.title(\"Top 20 Feature Importances in Random Forest\")\n",
        "plt.bar(range(top_n), top_importances, align=\"center\")\n",
        "plt.xticks(range(top_n), top_features, rotation=90)\n",
        "plt.xlabel(\"Features\")\n",
        "plt.ylabel(\"Importance Score\")\n",
        "plt.show()\n",
        "\n",
        "# Model Evaluation Insights\n",
        "print(\"\\nPerformance Summary:\")\n",
        "print(f\"- Model achieved {accuracy_score(y_test, y_pred) * 100:.2f}% accuracy.\")\n",
        "print(\"- Precision, Recall, and F1-Score are evaluated for both classes.\")\n",
        "print(\"- The model's performance on the imbalanced dataset is analyzed using class weights.\")\n",
        "print(\"- Future improvements: Consider tuning hyperparameters or experimenting with more advanced models like XGBoost.\")\n",
        "\n"
      ]
    },
    {
      "cell_type": "code",
      "execution_count": 30,
      "metadata": {
        "colab": {
          "base_uri": "https://localhost:8080/"
        },
        "id": "lQNJq158zznq",
        "outputId": "55061405-8a46-4f89-bcfd-b2b1ee16e113"
      },
      "outputs": [
        {
          "name": "stdout",
          "output_type": "stream",
          "text": [
            "\n",
            "Comparison of Models:\n",
            "- Logistic Regression Accuracy: 88.62%\n",
            "- Decision Tree Accuracy: 86.16%\n",
            "- Random Forest Accuracy: 89.06%\n"
          ]
        }
      ],
      "source": [
        "# Summary of Model Performance\n",
        "print(\"\\nComparison of Models:\")\n",
        "print(f\"- Logistic Regression Accuracy: {accuracy_score(y_test, y_pred_log) * 100:.2f}%\")\n",
        "print(f\"- Decision Tree Accuracy: {accuracy_score(y_test, y_pred_dt) * 100:.2f}%\")\n",
        "print(f\"- Random Forest Accuracy: {accuracy_score(y_test, y_pred) * 100:.2f}%\")"
      ]
    },
    {
      "cell_type": "markdown",
      "metadata": {
        "id": "dkUm3kzaBvQg"
      },
      "source": [
        "**Logistic Regression:**\n",
        "Although it achieved 88.62% accuracy, Logistic Regression assumes a linear relationship between features and the target variable. This makes it less effective in capturing complex patterns in the data. Additionally, it struggles with imbalanced datasets, leading to lower recall for the minority class."
      ]
    },
    {
      "cell_type": "markdown",
      "metadata": {
        "id": "MGkRKm4aByLF"
      },
      "source": [
        "**Decision Tree:** While Decision Tree achieved 86.16% accuracy, it captures non-linear patterns but is highly prone to overfitting. It may perform well on training data but poorly on unseen data. It also tends to be sensitive to small variations in data, making it less stable compared to ensemble methods like Random Forest."
      ]
    },
    {
      "cell_type": "markdown",
      "metadata": {
        "id": "jneG6aZuBn5F"
      },
      "source": [
        "**Random Forest:** With the highest accuracy of 89.06%, Random Forest is the most effective model. It handles imbalanced datasets better by using class weighting, reducing bias towards the majority class. It is more robust, combining multiple decision trees to reduce overfitting. It also captures complex relationships and non-linearity better than Logistic Regression, which assumes a linear relationship. Furthermore, Random Forest's feature importance analysis offers valuable insights into the factors driving predictions, making it highly useful for real-world applications."
      ]
    }
  ],
  "metadata": {
    "colab": {
      "provenance": []
    },
    "kernelspec": {
      "display_name": "Python 3",
      "name": "python3"
    },
    "language_info": {
      "name": "python"
    }
  },
  "nbformat": 4,
  "nbformat_minor": 0
}
