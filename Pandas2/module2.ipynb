{
  "cells": [
    {
      "cell_type": "markdown",
      "metadata": {
        "id": "m4PYB6_uB-7Q"
      },
      "source": [
        "**Q1 Empty Neighborhoods**\n",
        "We’re given two tables, a users table with demographic information and the neighborhood they live in and a neighborhoods table.\n",
        "\n",
        "Write a query that returns all neighborhoods that have 0 users."
      ]
    },
    {
      "cell_type": "code",
      "execution_count": null,
      "metadata": {
        "tags": [],
        "id": "K5q6VUd0B-7S"
      },
      "outputs": [],
      "source": [
        "import pandas as pd\n",
        "users = pd.read_csv('data/users.csv')\n",
        "neighborhoods = pd.read_csv('data/neighborhoods.csv')"
      ]
    },
    {
      "cell_type": "code",
      "execution_count": null,
      "metadata": {
        "id": "kEum-NPgB-7T",
        "outputId": "dded20da-dc44-46ee-dd23-25ffb585c07b"
      },
      "outputs": [
        {
          "data": {
            "text/html": [
              "<div>\n",
              "<style scoped>\n",
              "    .dataframe tbody tr th:only-of-type {\n",
              "        vertical-align: middle;\n",
              "    }\n",
              "\n",
              "    .dataframe tbody tr th {\n",
              "        vertical-align: top;\n",
              "    }\n",
              "\n",
              "    .dataframe thead th {\n",
              "        text-align: right;\n",
              "    }\n",
              "</style>\n",
              "<table border=\"1\" class=\"dataframe\">\n",
              "  <thead>\n",
              "    <tr style=\"text-align: right;\">\n",
              "      <th></th>\n",
              "      <th>id</th>\n",
              "      <th>name</th>\n",
              "      <th>neighborhood_id</th>\n",
              "    </tr>\n",
              "  </thead>\n",
              "  <tbody>\n",
              "    <tr>\n",
              "      <th>0</th>\n",
              "      <td>100</td>\n",
              "      <td>Chris Smith</td>\n",
              "      <td>2</td>\n",
              "    </tr>\n",
              "    <tr>\n",
              "      <th>1</th>\n",
              "      <td>101</td>\n",
              "      <td>Jason Mathers</td>\n",
              "      <td>4</td>\n",
              "    </tr>\n",
              "    <tr>\n",
              "      <th>2</th>\n",
              "      <td>102</td>\n",
              "      <td>Kyle Craig</td>\n",
              "      <td>6</td>\n",
              "    </tr>\n",
              "    <tr>\n",
              "      <th>3</th>\n",
              "      <td>103</td>\n",
              "      <td>James Williams</td>\n",
              "      <td>5</td>\n",
              "    </tr>\n",
              "    <tr>\n",
              "      <th>4</th>\n",
              "      <td>104</td>\n",
              "      <td>Michelle Trevors</td>\n",
              "      <td>1</td>\n",
              "    </tr>\n",
              "  </tbody>\n",
              "</table>\n",
              "</div>"
            ],
            "text/plain": [
              "    id              name  neighborhood_id\n",
              "0  100       Chris Smith                2\n",
              "1  101     Jason Mathers                4\n",
              "2  102        Kyle Craig                6\n",
              "3  103    James Williams                5\n",
              "4  104  Michelle Trevors                1"
            ]
          },
          "execution_count": 6,
          "metadata": {},
          "output_type": "execute_result"
        }
      ],
      "source": [
        "users.head()"
      ]
    },
    {
      "cell_type": "code",
      "execution_count": null,
      "metadata": {
        "id": "u3Lq1h4xB-7U",
        "outputId": "d99d4ee4-5b2a-4614-cd61-0eea8cf6b510"
      },
      "outputs": [
        {
          "data": {
            "text/html": [
              "<div>\n",
              "<style scoped>\n",
              "    .dataframe tbody tr th:only-of-type {\n",
              "        vertical-align: middle;\n",
              "    }\n",
              "\n",
              "    .dataframe tbody tr th {\n",
              "        vertical-align: top;\n",
              "    }\n",
              "\n",
              "    .dataframe thead th {\n",
              "        text-align: right;\n",
              "    }\n",
              "</style>\n",
              "<table border=\"1\" class=\"dataframe\">\n",
              "  <thead>\n",
              "    <tr style=\"text-align: right;\">\n",
              "      <th></th>\n",
              "      <th>city_id</th>\n",
              "      <th>id</th>\n",
              "      <th>name</th>\n",
              "    </tr>\n",
              "  </thead>\n",
              "  <tbody>\n",
              "    <tr>\n",
              "      <th>0</th>\n",
              "      <td>6</td>\n",
              "      <td>1</td>\n",
              "      <td>castro</td>\n",
              "    </tr>\n",
              "    <tr>\n",
              "      <th>1</th>\n",
              "      <td>11</td>\n",
              "      <td>2</td>\n",
              "      <td>valley</td>\n",
              "    </tr>\n",
              "    <tr>\n",
              "      <th>2</th>\n",
              "      <td>1</td>\n",
              "      <td>3</td>\n",
              "      <td>noe</td>\n",
              "    </tr>\n",
              "    <tr>\n",
              "      <th>3</th>\n",
              "      <td>16</td>\n",
              "      <td>4</td>\n",
              "      <td>tipper</td>\n",
              "    </tr>\n",
              "    <tr>\n",
              "      <th>4</th>\n",
              "      <td>12</td>\n",
              "      <td>5</td>\n",
              "      <td>dolores</td>\n",
              "    </tr>\n",
              "  </tbody>\n",
              "</table>\n",
              "</div>"
            ],
            "text/plain": [
              "   city_id  id     name\n",
              "0        6   1   castro\n",
              "1       11   2   valley\n",
              "2        1   3      noe\n",
              "3       16   4   tipper\n",
              "4       12   5  dolores"
            ]
          },
          "execution_count": 8,
          "metadata": {},
          "output_type": "execute_result"
        }
      ],
      "source": [
        "neighborhoods.head()"
      ]
    },
    {
      "cell_type": "code",
      "execution_count": null,
      "metadata": {
        "id": "ttAVIueeB-7V"
      },
      "outputs": [],
      "source": [
        "user_neig = users[['id', 'neighborhood_id']].merge(neighborhoods, left_on='neighborhood_id', right_on='id', how='inner')"
      ]
    },
    {
      "cell_type": "code",
      "execution_count": null,
      "metadata": {
        "id": "JfIjDQNaB-7V",
        "outputId": "699c9772-12f6-49a8-bc1f-96cd1bfc86eb"
      },
      "outputs": [
        {
          "data": {
            "text/html": [
              "<div>\n",
              "<style scoped>\n",
              "    .dataframe tbody tr th:only-of-type {\n",
              "        vertical-align: middle;\n",
              "    }\n",
              "\n",
              "    .dataframe tbody tr th {\n",
              "        vertical-align: top;\n",
              "    }\n",
              "\n",
              "    .dataframe thead th {\n",
              "        text-align: right;\n",
              "    }\n",
              "</style>\n",
              "<table border=\"1\" class=\"dataframe\">\n",
              "  <thead>\n",
              "    <tr style=\"text-align: right;\">\n",
              "      <th></th>\n",
              "      <th>name</th>\n",
              "    </tr>\n",
              "  </thead>\n",
              "  <tbody>\n",
              "  </tbody>\n",
              "</table>\n",
              "</div>"
            ],
            "text/plain": [
              "Empty DataFrame\n",
              "Columns: [name]\n",
              "Index: []"
            ]
          },
          "execution_count": 21,
          "metadata": {},
          "output_type": "execute_result"
        }
      ],
      "source": [
        "user_neig[user_neig['neighborhood_id'].isnull()][['name']]"
      ]
    },
    {
      "cell_type": "markdown",
      "metadata": {
        "id": "iGuNnU7KB-7W"
      },
      "source": [
        "**Q2** Given a table of bank transactions with columns id, transaction_value, and created_at representing the date and time for each transaction, write a query to get the last transaction for each day.\n",
        "\n",
        "The output should include the id of the transaction, datetime of the transaction, and the transaction amount. Order the transactions by datetime.\n",
        "\n",
        "Example:\n",
        "\n",
        "Input:\n",
        "\n",
        "bank_transactions table\n",
        "\n",
        "| Column      | Type |\n",
        "| ----------- | ----------- |\n",
        "| id      | INTEGER       |\n",
        "| created_at   | DATETIME      |\n",
        "|transaction_value|FLOAT|\n",
        "\n",
        "\n",
        "Output:\n",
        "\n",
        "| Column      | Type |\n",
        "| ----------- | ----------- |\n",
        "| created_at   | DATETIME      |\n",
        "|transaction_value|FLOAT|\n",
        "| id      | INTEGER       |\n",
        "\n"
      ]
    },
    {
      "cell_type": "code",
      "execution_count": null,
      "metadata": {
        "tags": [],
        "id": "-uMCRmzNB-7W"
      },
      "outputs": [],
      "source": [
        "import pandas as pd\n",
        "\n",
        "bank_transactions = pd.read_csv('data/bank_transactions.csv')"
      ]
    },
    {
      "cell_type": "code",
      "execution_count": null,
      "metadata": {
        "id": "okORL2KNB-7X",
        "outputId": "0d9818e2-71e3-40e4-89b2-255c89640b89"
      },
      "outputs": [
        {
          "data": {
            "text/html": [
              "<div>\n",
              "<style scoped>\n",
              "    .dataframe tbody tr th:only-of-type {\n",
              "        vertical-align: middle;\n",
              "    }\n",
              "\n",
              "    .dataframe tbody tr th {\n",
              "        vertical-align: top;\n",
              "    }\n",
              "\n",
              "    .dataframe thead th {\n",
              "        text-align: right;\n",
              "    }\n",
              "</style>\n",
              "<table border=\"1\" class=\"dataframe\">\n",
              "  <thead>\n",
              "    <tr style=\"text-align: right;\">\n",
              "      <th></th>\n",
              "      <th>created_at</th>\n",
              "      <th>id</th>\n",
              "      <th>transaction_value</th>\n",
              "    </tr>\n",
              "  </thead>\n",
              "  <tbody>\n",
              "    <tr>\n",
              "      <th>0</th>\n",
              "      <td>1/1/2020 2:21</td>\n",
              "      <td>1</td>\n",
              "      <td>45</td>\n",
              "    </tr>\n",
              "    <tr>\n",
              "      <th>1</th>\n",
              "      <td>1/1/2020 1:21</td>\n",
              "      <td>2</td>\n",
              "      <td>-65</td>\n",
              "    </tr>\n",
              "    <tr>\n",
              "      <th>2</th>\n",
              "      <td>1/1/2020 1:14</td>\n",
              "      <td>3</td>\n",
              "      <td>25</td>\n",
              "    </tr>\n",
              "    <tr>\n",
              "      <th>3</th>\n",
              "      <td>1/2/2020 0:11</td>\n",
              "      <td>4</td>\n",
              "      <td>45</td>\n",
              "    </tr>\n",
              "    <tr>\n",
              "      <th>4</th>\n",
              "      <td>1/2/2020 0:12</td>\n",
              "      <td>5</td>\n",
              "      <td>-30</td>\n",
              "    </tr>\n",
              "  </tbody>\n",
              "</table>\n",
              "</div>"
            ],
            "text/plain": [
              "      created_at  id  transaction_value\n",
              "0  1/1/2020 2:21   1                 45\n",
              "1  1/1/2020 1:21   2                -65\n",
              "2  1/1/2020 1:14   3                 25\n",
              "3  1/2/2020 0:11   4                 45\n",
              "4  1/2/2020 0:12   5                -30"
            ]
          },
          "execution_count": 51,
          "metadata": {},
          "output_type": "execute_result"
        }
      ],
      "source": [
        "bank_transactions.head()"
      ]
    },
    {
      "cell_type": "code",
      "execution_count": null,
      "metadata": {
        "id": "9vyEtbD6B-7X",
        "outputId": "6fe511dd-5413-4a2a-cdc8-76b65ad09bdf"
      },
      "outputs": [
        {
          "data": {
            "text/plain": [
              "(9, 3)"
            ]
          },
          "execution_count": 53,
          "metadata": {},
          "output_type": "execute_result"
        }
      ],
      "source": [
        "bank_transactions.shape"
      ]
    },
    {
      "cell_type": "code",
      "execution_count": null,
      "metadata": {
        "id": "lWbrukimB-7X"
      },
      "outputs": [],
      "source": [
        "bank_transactions['created_at'] = pd.to_datetime(bank_transactions['created_at'])"
      ]
    },
    {
      "cell_type": "code",
      "execution_count": null,
      "metadata": {
        "id": "SGdoq1AiB-7Y",
        "outputId": "6cd33fa4-4d5f-40b6-c427-03dee29ce81f"
      },
      "outputs": [
        {
          "data": {
            "text/html": [
              "<div>\n",
              "<style scoped>\n",
              "    .dataframe tbody tr th:only-of-type {\n",
              "        vertical-align: middle;\n",
              "    }\n",
              "\n",
              "    .dataframe tbody tr th {\n",
              "        vertical-align: top;\n",
              "    }\n",
              "\n",
              "    .dataframe thead th {\n",
              "        text-align: right;\n",
              "    }\n",
              "</style>\n",
              "<table border=\"1\" class=\"dataframe\">\n",
              "  <thead>\n",
              "    <tr style=\"text-align: right;\">\n",
              "      <th></th>\n",
              "      <th>created_at</th>\n",
              "      <th>id</th>\n",
              "      <th>transaction_value</th>\n",
              "    </tr>\n",
              "  </thead>\n",
              "  <tbody>\n",
              "    <tr>\n",
              "      <th>0</th>\n",
              "      <td>2020-01-01 02:21:00</td>\n",
              "      <td>1</td>\n",
              "      <td>45.0</td>\n",
              "    </tr>\n",
              "    <tr>\n",
              "      <th>1</th>\n",
              "      <td>2020-01-01 01:21:00</td>\n",
              "      <td>2</td>\n",
              "      <td>-65.0</td>\n",
              "    </tr>\n",
              "    <tr>\n",
              "      <th>2</th>\n",
              "      <td>2020-01-01 01:14:00</td>\n",
              "      <td>3</td>\n",
              "      <td>25.0</td>\n",
              "    </tr>\n",
              "    <tr>\n",
              "      <th>3</th>\n",
              "      <td>2020-01-02 00:11:00</td>\n",
              "      <td>4</td>\n",
              "      <td>45.0</td>\n",
              "    </tr>\n",
              "    <tr>\n",
              "      <th>4</th>\n",
              "      <td>2020-01-02 00:12:00</td>\n",
              "      <td>5</td>\n",
              "      <td>-30.0</td>\n",
              "    </tr>\n",
              "    <tr>\n",
              "      <th>5</th>\n",
              "      <td>2020-01-02 02:32:00</td>\n",
              "      <td>6</td>\n",
              "      <td>45.0</td>\n",
              "    </tr>\n",
              "    <tr>\n",
              "      <th>6</th>\n",
              "      <td>2020-01-03 01:30:00</td>\n",
              "      <td>7</td>\n",
              "      <td>-35.0</td>\n",
              "    </tr>\n",
              "    <tr>\n",
              "      <th>7</th>\n",
              "      <td>2020-01-04 01:41:00</td>\n",
              "      <td>8</td>\n",
              "      <td>75.0</td>\n",
              "    </tr>\n",
              "    <tr>\n",
              "      <th>8</th>\n",
              "      <td>2020-01-04 01:48:00</td>\n",
              "      <td>9</td>\n",
              "      <td>40.0</td>\n",
              "    </tr>\n",
              "  </tbody>\n",
              "</table>\n",
              "</div>"
            ],
            "text/plain": [
              "           created_at  id  transaction_value\n",
              "0 2020-01-01 02:21:00   1               45.0\n",
              "1 2020-01-01 01:21:00   2              -65.0\n",
              "2 2020-01-01 01:14:00   3               25.0\n",
              "3 2020-01-02 00:11:00   4               45.0\n",
              "4 2020-01-02 00:12:00   5              -30.0\n",
              "5 2020-01-02 02:32:00   6               45.0\n",
              "6 2020-01-03 01:30:00   7              -35.0\n",
              "7 2020-01-04 01:41:00   8               75.0\n",
              "8 2020-01-04 01:48:00   9               40.0"
            ]
          },
          "execution_count": 55,
          "metadata": {},
          "output_type": "execute_result"
        }
      ],
      "source": [
        "bank_transactions.astype({'id': int, 'transaction_value': float})"
      ]
    },
    {
      "cell_type": "code",
      "execution_count": null,
      "metadata": {
        "id": "jx_FunNhB-7Y",
        "outputId": "f33979ea-cf6c-4ec0-ad7a-ec414d5aa496"
      },
      "outputs": [
        {
          "data": {
            "text/plain": [
              "created_at           datetime64[ns]\n",
              "id                            int64\n",
              "transaction_value             int64\n",
              "dtype: object"
            ]
          },
          "execution_count": 56,
          "metadata": {},
          "output_type": "execute_result"
        }
      ],
      "source": [
        "bank_transactions.dtypes"
      ]
    },
    {
      "cell_type": "code",
      "execution_count": null,
      "metadata": {
        "id": "YBHuwbBCB-7Y"
      },
      "outputs": [],
      "source": [
        "bank_transactions['day'] = bank_transactions['created_at'].dt.day"
      ]
    },
    {
      "cell_type": "code",
      "execution_count": null,
      "metadata": {
        "id": "khemTrX0B-7Y",
        "outputId": "802f4d25-318c-4b5f-f3ab-ca3218729c4b"
      },
      "outputs": [
        {
          "data": {
            "text/plain": [
              "(9, 4)"
            ]
          },
          "execution_count": 58,
          "metadata": {},
          "output_type": "execute_result"
        }
      ],
      "source": [
        "bank_transactions.shape"
      ]
    },
    {
      "cell_type": "code",
      "execution_count": null,
      "metadata": {
        "id": "lAsZiYYUB-7Z"
      },
      "outputs": [],
      "source": [
        "bank_transactions['month'] = bank_transactions['created_at'].dt.month"
      ]
    },
    {
      "cell_type": "code",
      "execution_count": null,
      "metadata": {
        "id": "yYQ501xEB-7Z"
      },
      "outputs": [],
      "source": [
        "bank_transactions['year'] = bank_transactions['created_at'].dt.year"
      ]
    },
    {
      "cell_type": "code",
      "execution_count": null,
      "metadata": {
        "scrolled": true,
        "id": "yVCNyZGZB-7Z",
        "outputId": "c8e46b06-d596-414d-9e37-25a8ff660c9c"
      },
      "outputs": [
        {
          "data": {
            "text/html": [
              "<div>\n",
              "<style scoped>\n",
              "    .dataframe tbody tr th:only-of-type {\n",
              "        vertical-align: middle;\n",
              "    }\n",
              "\n",
              "    .dataframe tbody tr th {\n",
              "        vertical-align: top;\n",
              "    }\n",
              "\n",
              "    .dataframe thead th {\n",
              "        text-align: right;\n",
              "    }\n",
              "</style>\n",
              "<table border=\"1\" class=\"dataframe\">\n",
              "  <thead>\n",
              "    <tr style=\"text-align: right;\">\n",
              "      <th></th>\n",
              "      <th>created_at</th>\n",
              "      <th>id</th>\n",
              "      <th>transaction_value</th>\n",
              "      <th>day</th>\n",
              "      <th>month</th>\n",
              "      <th>year</th>\n",
              "    </tr>\n",
              "  </thead>\n",
              "  <tbody>\n",
              "    <tr>\n",
              "      <th>0</th>\n",
              "      <td>2020-01-01 02:21:00</td>\n",
              "      <td>1</td>\n",
              "      <td>45</td>\n",
              "      <td>1</td>\n",
              "      <td>1</td>\n",
              "      <td>2020</td>\n",
              "    </tr>\n",
              "    <tr>\n",
              "      <th>1</th>\n",
              "      <td>2020-01-01 01:21:00</td>\n",
              "      <td>2</td>\n",
              "      <td>-65</td>\n",
              "      <td>1</td>\n",
              "      <td>1</td>\n",
              "      <td>2020</td>\n",
              "    </tr>\n",
              "    <tr>\n",
              "      <th>2</th>\n",
              "      <td>2020-01-01 01:14:00</td>\n",
              "      <td>3</td>\n",
              "      <td>25</td>\n",
              "      <td>1</td>\n",
              "      <td>1</td>\n",
              "      <td>2020</td>\n",
              "    </tr>\n",
              "    <tr>\n",
              "      <th>3</th>\n",
              "      <td>2020-01-02 00:11:00</td>\n",
              "      <td>4</td>\n",
              "      <td>45</td>\n",
              "      <td>2</td>\n",
              "      <td>1</td>\n",
              "      <td>2020</td>\n",
              "    </tr>\n",
              "    <tr>\n",
              "      <th>4</th>\n",
              "      <td>2020-01-02 00:12:00</td>\n",
              "      <td>5</td>\n",
              "      <td>-30</td>\n",
              "      <td>2</td>\n",
              "      <td>1</td>\n",
              "      <td>2020</td>\n",
              "    </tr>\n",
              "  </tbody>\n",
              "</table>\n",
              "</div>"
            ],
            "text/plain": [
              "           created_at  id  transaction_value  day  month  year\n",
              "0 2020-01-01 02:21:00   1                 45    1      1  2020\n",
              "1 2020-01-01 01:21:00   2                -65    1      1  2020\n",
              "2 2020-01-01 01:14:00   3                 25    1      1  2020\n",
              "3 2020-01-02 00:11:00   4                 45    2      1  2020\n",
              "4 2020-01-02 00:12:00   5                -30    2      1  2020"
            ]
          },
          "execution_count": 64,
          "metadata": {},
          "output_type": "execute_result"
        }
      ],
      "source": [
        "bank_transactions.head()"
      ]
    },
    {
      "cell_type": "code",
      "execution_count": null,
      "metadata": {
        "id": "_ttFFoV4B-7Z",
        "outputId": "b4b4a26f-b248-47e0-e79b-b3f9f7a7897d"
      },
      "outputs": [
        {
          "data": {
            "text/html": [
              "<div>\n",
              "<style scoped>\n",
              "    .dataframe tbody tr th:only-of-type {\n",
              "        vertical-align: middle;\n",
              "    }\n",
              "\n",
              "    .dataframe tbody tr th {\n",
              "        vertical-align: top;\n",
              "    }\n",
              "\n",
              "    .dataframe thead th {\n",
              "        text-align: right;\n",
              "    }\n",
              "</style>\n",
              "<table border=\"1\" class=\"dataframe\">\n",
              "  <thead>\n",
              "    <tr style=\"text-align: right;\">\n",
              "      <th></th>\n",
              "      <th></th>\n",
              "      <th></th>\n",
              "      <th></th>\n",
              "      <th>created_at</th>\n",
              "      <th>id</th>\n",
              "      <th>transaction_value</th>\n",
              "    </tr>\n",
              "    <tr>\n",
              "      <th>year</th>\n",
              "      <th>month</th>\n",
              "      <th>day</th>\n",
              "      <th></th>\n",
              "      <th></th>\n",
              "      <th></th>\n",
              "      <th></th>\n",
              "    </tr>\n",
              "  </thead>\n",
              "  <tbody>\n",
              "    <tr>\n",
              "      <th rowspan=\"9\" valign=\"top\">2020</th>\n",
              "      <th rowspan=\"9\" valign=\"top\">1</th>\n",
              "      <th rowspan=\"3\" valign=\"top\">1</th>\n",
              "      <th>2</th>\n",
              "      <td>2020-01-01 01:14:00</td>\n",
              "      <td>3</td>\n",
              "      <td>25</td>\n",
              "    </tr>\n",
              "    <tr>\n",
              "      <th>1</th>\n",
              "      <td>2020-01-01 01:21:00</td>\n",
              "      <td>2</td>\n",
              "      <td>-65</td>\n",
              "    </tr>\n",
              "    <tr>\n",
              "      <th>0</th>\n",
              "      <td>2020-01-01 02:21:00</td>\n",
              "      <td>1</td>\n",
              "      <td>45</td>\n",
              "    </tr>\n",
              "    <tr>\n",
              "      <th rowspan=\"3\" valign=\"top\">2</th>\n",
              "      <th>3</th>\n",
              "      <td>2020-01-02 00:11:00</td>\n",
              "      <td>4</td>\n",
              "      <td>45</td>\n",
              "    </tr>\n",
              "    <tr>\n",
              "      <th>4</th>\n",
              "      <td>2020-01-02 00:12:00</td>\n",
              "      <td>5</td>\n",
              "      <td>-30</td>\n",
              "    </tr>\n",
              "    <tr>\n",
              "      <th>5</th>\n",
              "      <td>2020-01-02 02:32:00</td>\n",
              "      <td>6</td>\n",
              "      <td>45</td>\n",
              "    </tr>\n",
              "    <tr>\n",
              "      <th>3</th>\n",
              "      <th>6</th>\n",
              "      <td>2020-01-03 01:30:00</td>\n",
              "      <td>7</td>\n",
              "      <td>-35</td>\n",
              "    </tr>\n",
              "    <tr>\n",
              "      <th rowspan=\"2\" valign=\"top\">4</th>\n",
              "      <th>7</th>\n",
              "      <td>2020-01-04 01:41:00</td>\n",
              "      <td>8</td>\n",
              "      <td>75</td>\n",
              "    </tr>\n",
              "    <tr>\n",
              "      <th>8</th>\n",
              "      <td>2020-01-04 01:48:00</td>\n",
              "      <td>9</td>\n",
              "      <td>40</td>\n",
              "    </tr>\n",
              "  </tbody>\n",
              "</table>\n",
              "</div>"
            ],
            "text/plain": [
              "                          created_at  id  transaction_value\n",
              "year month day                                             \n",
              "2020 1     1   2 2020-01-01 01:14:00   3                 25\n",
              "               1 2020-01-01 01:21:00   2                -65\n",
              "               0 2020-01-01 02:21:00   1                 45\n",
              "           2   3 2020-01-02 00:11:00   4                 45\n",
              "               4 2020-01-02 00:12:00   5                -30\n",
              "               5 2020-01-02 02:32:00   6                 45\n",
              "           3   6 2020-01-03 01:30:00   7                -35\n",
              "           4   7 2020-01-04 01:41:00   8                 75\n",
              "               8 2020-01-04 01:48:00   9                 40"
            ]
          },
          "execution_count": 65,
          "metadata": {},
          "output_type": "execute_result"
        }
      ],
      "source": [
        "bank_transactions.groupby(['year', 'month', 'day'])[['created_at', 'id', 'transaction_value']].apply(lambda x:x.sort_values(by='created_at'))"
      ]
    },
    {
      "cell_type": "code",
      "execution_count": null,
      "metadata": {
        "id": "atPyBcTfB-7a",
        "outputId": "04a7def1-4514-4997-84c2-b54d580d1798"
      },
      "outputs": [
        {
          "data": {
            "text/html": [
              "<div>\n",
              "<style scoped>\n",
              "    .dataframe tbody tr th:only-of-type {\n",
              "        vertical-align: middle;\n",
              "    }\n",
              "\n",
              "    .dataframe tbody tr th {\n",
              "        vertical-align: top;\n",
              "    }\n",
              "\n",
              "    .dataframe thead th {\n",
              "        text-align: right;\n",
              "    }\n",
              "</style>\n",
              "<table border=\"1\" class=\"dataframe\">\n",
              "  <thead>\n",
              "    <tr style=\"text-align: right;\">\n",
              "      <th></th>\n",
              "      <th>created_at</th>\n",
              "      <th>id</th>\n",
              "      <th>transaction_value</th>\n",
              "    </tr>\n",
              "  </thead>\n",
              "  <tbody>\n",
              "    <tr>\n",
              "      <th>0</th>\n",
              "      <td>2020-01-01 02:21:00</td>\n",
              "      <td>1</td>\n",
              "      <td>45</td>\n",
              "    </tr>\n",
              "    <tr>\n",
              "      <th>1</th>\n",
              "      <td>2020-01-02 02:32:00</td>\n",
              "      <td>6</td>\n",
              "      <td>45</td>\n",
              "    </tr>\n",
              "    <tr>\n",
              "      <th>2</th>\n",
              "      <td>2020-01-03 01:30:00</td>\n",
              "      <td>7</td>\n",
              "      <td>-35</td>\n",
              "    </tr>\n",
              "    <tr>\n",
              "      <th>3</th>\n",
              "      <td>2020-01-04 01:48:00</td>\n",
              "      <td>9</td>\n",
              "      <td>40</td>\n",
              "    </tr>\n",
              "  </tbody>\n",
              "</table>\n",
              "</div>"
            ],
            "text/plain": [
              "           created_at  id  transaction_value\n",
              "0 2020-01-01 02:21:00   1                 45\n",
              "1 2020-01-02 02:32:00   6                 45\n",
              "2 2020-01-03 01:30:00   7                -35\n",
              "3 2020-01-04 01:48:00   9                 40"
            ]
          },
          "execution_count": 81,
          "metadata": {},
          "output_type": "execute_result"
        }
      ],
      "source": [
        "bank_transactions.groupby(['year', 'month', 'day'])[['created_at', 'id', 'transaction_value']].\\\n",
        "apply(lambda x:x.sort_values(by='created_at').tail(1)).droplevel([0,1,2]).reset_index(drop=True)"
      ]
    },
    {
      "cell_type": "markdown",
      "metadata": {
        "id": "8BS-B0gaB-7a"
      },
      "source": [
        "**Q3** Given three tables, representing customer transactions and customer attributes:\n",
        "\n",
        "Write a query to get the average order value by gender.\n",
        "\n",
        "Note: We’re looking at the average order value by users that have ever placed an order. Additionally, please round your answer to two decimal places.\n",
        "\n",
        "Example:\n",
        "\n",
        "Input:\n",
        "\n",
        "transactions table\n",
        "\n",
        "| Column      | Type |\n",
        "| ----------- | ----------- |\n",
        "| id      | INTEGER       |\n",
        "|user_id|INTEGER|\n",
        "| created_at   | DATETIME   |\n",
        "|product_id|INTEGER|\n",
        "|quantity|INTEGER|\n",
        "\n",
        "\n",
        "users2 table\n",
        "\n",
        "| Column      | Type |\n",
        "| ----------- | ----------- |\n",
        "| id      | INTEGER       |\n",
        "|name|VARCHAR|\n",
        "|sex|VARCHAR|\n",
        "\n",
        "products table\n",
        "\n",
        "| Column      | Type |\n",
        "| ----------- | ----------- |\n",
        "| id      | INTEGER       |\n",
        "|name|VARCHAR|\n",
        "|price|FLOAT|\n",
        "\n",
        "Output:\n",
        "\n",
        "| Column      | Type |\n",
        "| ----------- | ----------- |\n",
        "|sex|VARCHAR|\n",
        "|aov|FLOAT|\n"
      ]
    },
    {
      "cell_type": "code",
      "execution_count": null,
      "metadata": {
        "tags": [],
        "id": "DJ-E7moMB-7b"
      },
      "outputs": [],
      "source": [
        "import pandas as pd\n",
        "\n",
        "transactions = pd.read_csv('data/transactions.csv')\n",
        "users2 = pd.read_csv('data/users2.csv')\n",
        "products = pd.read_csv('data/products.csv')\n",
        "\n"
      ]
    },
    {
      "cell_type": "code",
      "execution_count": null,
      "metadata": {
        "id": "F2EqTszqB-7b",
        "outputId": "e6f53778-b8db-49a9-8100-bf0b9bd4fae7"
      },
      "outputs": [
        {
          "data": {
            "text/plain": [
              "created_at    object\n",
              "id             int64\n",
              "product_id     int64\n",
              "quantity       int64\n",
              "user_id        int64\n",
              "dtype: object"
            ]
          },
          "execution_count": 85,
          "metadata": {},
          "output_type": "execute_result"
        }
      ],
      "source": [
        "transactions.dtypes"
      ]
    },
    {
      "cell_type": "code",
      "execution_count": null,
      "metadata": {
        "id": "-kzMdFcPB-7b"
      },
      "outputs": [],
      "source": [
        "transactions['created_at'] = pd.to_datetime(transactions['created_at'])"
      ]
    },
    {
      "cell_type": "code",
      "execution_count": null,
      "metadata": {
        "id": "eSl-eoSnB-7b",
        "outputId": "846773cd-3e58-4220-f7d1-3198ab1fa150"
      },
      "outputs": [
        {
          "data": {
            "text/plain": [
              "created_at    datetime64[ns]\n",
              "id                     int64\n",
              "product_id             int64\n",
              "quantity               int64\n",
              "user_id                int64\n",
              "dtype: object"
            ]
          },
          "execution_count": 88,
          "metadata": {},
          "output_type": "execute_result"
        }
      ],
      "source": [
        "transactions.dtypes"
      ]
    },
    {
      "cell_type": "code",
      "execution_count": null,
      "metadata": {
        "id": "7OQj5PsSB-7b",
        "outputId": "483805c7-967f-40ee-e910-848954c069b1"
      },
      "outputs": [
        {
          "data": {
            "text/plain": [
              "id       int64\n",
              "name    object\n",
              "sex     object\n",
              "dtype: object"
            ]
          },
          "execution_count": 89,
          "metadata": {},
          "output_type": "execute_result"
        }
      ],
      "source": [
        "users2.dtypes"
      ]
    },
    {
      "cell_type": "code",
      "execution_count": null,
      "metadata": {
        "id": "H8hDe4PlB-7c",
        "outputId": "20b3723c-54ad-47fd-ac08-ae7f9e150dab"
      },
      "outputs": [
        {
          "data": {
            "text/plain": [
              "id         int64\n",
              "name      object\n",
              "price    float64\n",
              "dtype: object"
            ]
          },
          "execution_count": 92,
          "metadata": {},
          "output_type": "execute_result"
        }
      ],
      "source": [
        "products.astype({'id': int, 'name':str, 'price': float})\n",
        "products.dtypes"
      ]
    },
    {
      "cell_type": "code",
      "execution_count": null,
      "metadata": {
        "id": "4ukU2T1lB-7c"
      },
      "outputs": [],
      "source": [
        "transaction_product = transactions.merge(products, left_on = 'product_id', right_on = 'id', how = 'right')"
      ]
    },
    {
      "cell_type": "code",
      "execution_count": null,
      "metadata": {
        "id": "gQg3LEWwB-7c"
      },
      "outputs": [],
      "source": [
        "transaction_product['quantity_price'] = transaction_product['price'] * transaction_product['quantity']"
      ]
    },
    {
      "cell_type": "code",
      "execution_count": null,
      "metadata": {
        "id": "S0hmqu9OB-7c",
        "outputId": "6982e333-3d2c-4185-be34-333f1b4abcbd"
      },
      "outputs": [
        {
          "data": {
            "text/html": [
              "<div>\n",
              "<style scoped>\n",
              "    .dataframe tbody tr th:only-of-type {\n",
              "        vertical-align: middle;\n",
              "    }\n",
              "\n",
              "    .dataframe tbody tr th {\n",
              "        vertical-align: top;\n",
              "    }\n",
              "\n",
              "    .dataframe thead th {\n",
              "        text-align: right;\n",
              "    }\n",
              "</style>\n",
              "<table border=\"1\" class=\"dataframe\">\n",
              "  <thead>\n",
              "    <tr style=\"text-align: right;\">\n",
              "      <th></th>\n",
              "      <th>created_at</th>\n",
              "      <th>id_x</th>\n",
              "      <th>product_id</th>\n",
              "      <th>quantity</th>\n",
              "      <th>user_id</th>\n",
              "      <th>id_y</th>\n",
              "      <th>name</th>\n",
              "      <th>price</th>\n",
              "      <th>quantity_price</th>\n",
              "    </tr>\n",
              "  </thead>\n",
              "  <tbody>\n",
              "    <tr>\n",
              "      <th>0</th>\n",
              "      <td>2019-01-25</td>\n",
              "      <td>106</td>\n",
              "      <td>1</td>\n",
              "      <td>5</td>\n",
              "      <td>54</td>\n",
              "      <td>1</td>\n",
              "      <td>few local receive</td>\n",
              "      <td>37.32</td>\n",
              "      <td>186.60</td>\n",
              "    </tr>\n",
              "    <tr>\n",
              "      <th>1</th>\n",
              "      <td>2019-01-23</td>\n",
              "      <td>104</td>\n",
              "      <td>2</td>\n",
              "      <td>1</td>\n",
              "      <td>53</td>\n",
              "      <td>2</td>\n",
              "      <td>land debate here</td>\n",
              "      <td>24.98</td>\n",
              "      <td>24.98</td>\n",
              "    </tr>\n",
              "    <tr>\n",
              "      <th>2</th>\n",
              "      <td>2019-01-19</td>\n",
              "      <td>101</td>\n",
              "      <td>3</td>\n",
              "      <td>3</td>\n",
              "      <td>50</td>\n",
              "      <td>3</td>\n",
              "      <td>dinner suffer truth</td>\n",
              "      <td>175.47</td>\n",
              "      <td>526.41</td>\n",
              "    </tr>\n",
              "    <tr>\n",
              "      <th>3</th>\n",
              "      <td>2019-01-23</td>\n",
              "      <td>105</td>\n",
              "      <td>4</td>\n",
              "      <td>3</td>\n",
              "      <td>53</td>\n",
              "      <td>4</td>\n",
              "      <td>sometimes tonight billion</td>\n",
              "      <td>172.00</td>\n",
              "      <td>516.00</td>\n",
              "    </tr>\n",
              "    <tr>\n",
              "      <th>4</th>\n",
              "      <td>2019-01-19</td>\n",
              "      <td>100</td>\n",
              "      <td>5</td>\n",
              "      <td>2</td>\n",
              "      <td>50</td>\n",
              "      <td>5</td>\n",
              "      <td>person require analysis</td>\n",
              "      <td>80.00</td>\n",
              "      <td>160.00</td>\n",
              "    </tr>\n",
              "  </tbody>\n",
              "</table>\n",
              "</div>"
            ],
            "text/plain": [
              "  created_at  id_x  product_id  quantity  user_id  id_y  \\\n",
              "0 2019-01-25   106           1         5       54     1   \n",
              "1 2019-01-23   104           2         1       53     2   \n",
              "2 2019-01-19   101           3         3       50     3   \n",
              "3 2019-01-23   105           4         3       53     4   \n",
              "4 2019-01-19   100           5         2       50     5   \n",
              "\n",
              "                        name   price  quantity_price  \n",
              "0          few local receive   37.32          186.60  \n",
              "1           land debate here   24.98           24.98  \n",
              "2        dinner suffer truth  175.47          526.41  \n",
              "3  sometimes tonight billion  172.00          516.00  \n",
              "4    person require analysis   80.00          160.00  "
            ]
          },
          "execution_count": 98,
          "metadata": {},
          "output_type": "execute_result"
        }
      ],
      "source": [
        "transaction_product.head()"
      ]
    },
    {
      "cell_type": "code",
      "execution_count": null,
      "metadata": {
        "id": "Ik2dQcZkB-7d"
      },
      "outputs": [],
      "source": [
        "transaction_pu = transaction_product.merge(users2, left_on = 'user_id', right_on = 'id', how = 'right')"
      ]
    },
    {
      "cell_type": "code",
      "execution_count": null,
      "metadata": {
        "id": "5GBcpX7wB-7d",
        "outputId": "8520b00b-9cd8-4692-d810-5d062106a9ec"
      },
      "outputs": [
        {
          "data": {
            "text/html": [
              "<div>\n",
              "<style scoped>\n",
              "    .dataframe tbody tr th:only-of-type {\n",
              "        vertical-align: middle;\n",
              "    }\n",
              "\n",
              "    .dataframe tbody tr th {\n",
              "        vertical-align: top;\n",
              "    }\n",
              "\n",
              "    .dataframe thead th {\n",
              "        text-align: right;\n",
              "    }\n",
              "</style>\n",
              "<table border=\"1\" class=\"dataframe\">\n",
              "  <thead>\n",
              "    <tr style=\"text-align: right;\">\n",
              "      <th></th>\n",
              "      <th>created_at</th>\n",
              "      <th>id_x</th>\n",
              "      <th>product_id</th>\n",
              "      <th>quantity</th>\n",
              "      <th>user_id</th>\n",
              "      <th>id_y</th>\n",
              "      <th>name_x</th>\n",
              "      <th>price</th>\n",
              "      <th>quantity_price</th>\n",
              "      <th>id</th>\n",
              "      <th>name_y</th>\n",
              "      <th>sex</th>\n",
              "    </tr>\n",
              "  </thead>\n",
              "  <tbody>\n",
              "    <tr>\n",
              "      <th>0</th>\n",
              "      <td>2019-01-19</td>\n",
              "      <td>101</td>\n",
              "      <td>3</td>\n",
              "      <td>3</td>\n",
              "      <td>50</td>\n",
              "      <td>3</td>\n",
              "      <td>dinner suffer truth</td>\n",
              "      <td>175.47</td>\n",
              "      <td>526.41</td>\n",
              "      <td>50</td>\n",
              "      <td>Jim Brown</td>\n",
              "      <td>M</td>\n",
              "    </tr>\n",
              "    <tr>\n",
              "      <th>1</th>\n",
              "      <td>2019-01-19</td>\n",
              "      <td>100</td>\n",
              "      <td>5</td>\n",
              "      <td>2</td>\n",
              "      <td>50</td>\n",
              "      <td>5</td>\n",
              "      <td>person require analysis</td>\n",
              "      <td>80.00</td>\n",
              "      <td>160.00</td>\n",
              "      <td>50</td>\n",
              "      <td>Jim Brown</td>\n",
              "      <td>M</td>\n",
              "    </tr>\n",
              "    <tr>\n",
              "      <th>2</th>\n",
              "      <td>2019-01-21</td>\n",
              "      <td>102</td>\n",
              "      <td>8</td>\n",
              "      <td>1</td>\n",
              "      <td>51</td>\n",
              "      <td>8</td>\n",
              "      <td>air sister final</td>\n",
              "      <td>11.00</td>\n",
              "      <td>11.00</td>\n",
              "      <td>51</td>\n",
              "      <td>Kyle Teller</td>\n",
              "      <td>M</td>\n",
              "    </tr>\n",
              "    <tr>\n",
              "      <th>3</th>\n",
              "      <td>2019-01-22</td>\n",
              "      <td>103</td>\n",
              "      <td>7</td>\n",
              "      <td>1</td>\n",
              "      <td>52</td>\n",
              "      <td>7</td>\n",
              "      <td>loss weight task</td>\n",
              "      <td>182.00</td>\n",
              "      <td>182.00</td>\n",
              "      <td>52</td>\n",
              "      <td>Jason Roy</td>\n",
              "      <td>M</td>\n",
              "    </tr>\n",
              "    <tr>\n",
              "      <th>4</th>\n",
              "      <td>2019-01-23</td>\n",
              "      <td>104</td>\n",
              "      <td>2</td>\n",
              "      <td>1</td>\n",
              "      <td>53</td>\n",
              "      <td>2</td>\n",
              "      <td>land debate here</td>\n",
              "      <td>24.98</td>\n",
              "      <td>24.98</td>\n",
              "      <td>53</td>\n",
              "      <td>Adam James</td>\n",
              "      <td>M</td>\n",
              "    </tr>\n",
              "  </tbody>\n",
              "</table>\n",
              "</div>"
            ],
            "text/plain": [
              "  created_at  id_x  product_id  quantity  user_id  id_y  \\\n",
              "0 2019-01-19   101           3         3       50     3   \n",
              "1 2019-01-19   100           5         2       50     5   \n",
              "2 2019-01-21   102           8         1       51     8   \n",
              "3 2019-01-22   103           7         1       52     7   \n",
              "4 2019-01-23   104           2         1       53     2   \n",
              "\n",
              "                    name_x   price  quantity_price  id       name_y sex  \n",
              "0      dinner suffer truth  175.47          526.41  50    Jim Brown   M  \n",
              "1  person require analysis   80.00          160.00  50    Jim Brown   M  \n",
              "2         air sister final   11.00           11.00  51  Kyle Teller   M  \n",
              "3         loss weight task  182.00          182.00  52    Jason Roy   M  \n",
              "4         land debate here   24.98           24.98  53   Adam James   M  "
            ]
          },
          "execution_count": 101,
          "metadata": {},
          "output_type": "execute_result"
        }
      ],
      "source": [
        "transaction_pu.head()"
      ]
    },
    {
      "cell_type": "code",
      "execution_count": null,
      "metadata": {
        "id": "J7m1AsjKB-7d"
      },
      "outputs": [],
      "source": [
        "aov = transaction_pu.groupby(['sex'])['id'].mean().reset_index(name = 'aov')"
      ]
    },
    {
      "cell_type": "code",
      "execution_count": null,
      "metadata": {
        "id": "tXxF1PpLB-7e",
        "outputId": "eff56e6f-b7be-4efe-e937-6c7b45f3af9a"
      },
      "outputs": [
        {
          "data": {
            "text/html": [
              "<div>\n",
              "<style scoped>\n",
              "    .dataframe tbody tr th:only-of-type {\n",
              "        vertical-align: middle;\n",
              "    }\n",
              "\n",
              "    .dataframe tbody tr th {\n",
              "        vertical-align: top;\n",
              "    }\n",
              "\n",
              "    .dataframe thead th {\n",
              "        text-align: right;\n",
              "    }\n",
              "</style>\n",
              "<table border=\"1\" class=\"dataframe\">\n",
              "  <thead>\n",
              "    <tr style=\"text-align: right;\">\n",
              "      <th></th>\n",
              "      <th>sex</th>\n",
              "      <th>aov</th>\n",
              "    </tr>\n",
              "  </thead>\n",
              "  <tbody>\n",
              "    <tr>\n",
              "      <th>0</th>\n",
              "      <td>F</td>\n",
              "      <td>55.4</td>\n",
              "    </tr>\n",
              "    <tr>\n",
              "      <th>1</th>\n",
              "      <td>M</td>\n",
              "      <td>51.5</td>\n",
              "    </tr>\n",
              "  </tbody>\n",
              "</table>\n",
              "</div>"
            ],
            "text/plain": [
              "  sex   aov\n",
              "0   F  55.4\n",
              "1   M  51.5"
            ]
          },
          "execution_count": 121,
          "metadata": {},
          "output_type": "execute_result"
        }
      ],
      "source": [
        "aov"
      ]
    },
    {
      "cell_type": "code",
      "execution_count": null,
      "metadata": {
        "id": "ffP-2ssOB-7e",
        "outputId": "13ddab4b-4f59-4b0e-cb4a-0775d00b2e26"
      },
      "outputs": [
        {
          "data": {
            "text/html": [
              "<div>\n",
              "<style scoped>\n",
              "    .dataframe tbody tr th:only-of-type {\n",
              "        vertical-align: middle;\n",
              "    }\n",
              "\n",
              "    .dataframe tbody tr th {\n",
              "        vertical-align: top;\n",
              "    }\n",
              "\n",
              "    .dataframe thead th {\n",
              "        text-align: right;\n",
              "    }\n",
              "</style>\n",
              "<table border=\"1\" class=\"dataframe\">\n",
              "  <thead>\n",
              "    <tr style=\"text-align: right;\">\n",
              "      <th></th>\n",
              "      <th>sex</th>\n",
              "      <th>aov</th>\n",
              "    </tr>\n",
              "  </thead>\n",
              "  <tbody>\n",
              "    <tr>\n",
              "      <th>0</th>\n",
              "      <td>F</td>\n",
              "      <td>55.4</td>\n",
              "    </tr>\n",
              "    <tr>\n",
              "      <th>1</th>\n",
              "      <td>M</td>\n",
              "      <td>51.5</td>\n",
              "    </tr>\n",
              "  </tbody>\n",
              "</table>\n",
              "</div>"
            ],
            "text/plain": [
              "  sex   aov\n",
              "0   F  55.4\n",
              "1   M  51.5"
            ]
          },
          "execution_count": 123,
          "metadata": {},
          "output_type": "execute_result"
        }
      ],
      "source": [
        "aov1 = transaction_pu.groupby(['sex'])['id'].mean()\n",
        "aov1.to_frame('aov').reset_index()"
      ]
    },
    {
      "cell_type": "markdown",
      "metadata": {
        "id": "hXDjSjd1B-7f"
      },
      "source": [
        "**Q4** Assign the median price to missing price values"
      ]
    },
    {
      "cell_type": "code",
      "execution_count": null,
      "metadata": {
        "tags": [],
        "id": "7zQSpKFkB-7f"
      },
      "outputs": [],
      "source": [
        "import pandas as pd\n",
        "import numpy as np\n",
        "\n",
        "cheeses = pd.DataFrame({\"Name\": [\"Bohemian Goat\", \"Central Coast Bleu\",\\\n",
        "                    \"Cowgirl Mozzarella\", \"Cypress Grove Cheddar\",\\\n",
        "                    \"Oakdale Colby\"], \"Price\" : [15.00, None, 30.00, None, 45.00]})\n"
      ]
    },
    {
      "cell_type": "code",
      "execution_count": null,
      "metadata": {
        "id": "I_gFB3Q6B-7f",
        "outputId": "ed3fa554-a3a2-4269-b8b5-19c0593e1d8e"
      },
      "outputs": [
        {
          "data": {
            "text/html": [
              "<div>\n",
              "<style scoped>\n",
              "    .dataframe tbody tr th:only-of-type {\n",
              "        vertical-align: middle;\n",
              "    }\n",
              "\n",
              "    .dataframe tbody tr th {\n",
              "        vertical-align: top;\n",
              "    }\n",
              "\n",
              "    .dataframe thead th {\n",
              "        text-align: right;\n",
              "    }\n",
              "</style>\n",
              "<table border=\"1\" class=\"dataframe\">\n",
              "  <thead>\n",
              "    <tr style=\"text-align: right;\">\n",
              "      <th></th>\n",
              "      <th>Name</th>\n",
              "      <th>Price</th>\n",
              "    </tr>\n",
              "  </thead>\n",
              "  <tbody>\n",
              "    <tr>\n",
              "      <th>0</th>\n",
              "      <td>Bohemian Goat</td>\n",
              "      <td>15.0</td>\n",
              "    </tr>\n",
              "    <tr>\n",
              "      <th>1</th>\n",
              "      <td>Central Coast Bleu</td>\n",
              "      <td>NaN</td>\n",
              "    </tr>\n",
              "    <tr>\n",
              "      <th>2</th>\n",
              "      <td>Cowgirl Mozzarella</td>\n",
              "      <td>30.0</td>\n",
              "    </tr>\n",
              "    <tr>\n",
              "      <th>3</th>\n",
              "      <td>Cypress Grove Cheddar</td>\n",
              "      <td>NaN</td>\n",
              "    </tr>\n",
              "    <tr>\n",
              "      <th>4</th>\n",
              "      <td>Oakdale Colby</td>\n",
              "      <td>45.0</td>\n",
              "    </tr>\n",
              "  </tbody>\n",
              "</table>\n",
              "</div>"
            ],
            "text/plain": [
              "                    Name  Price\n",
              "0          Bohemian Goat   15.0\n",
              "1     Central Coast Bleu    NaN\n",
              "2     Cowgirl Mozzarella   30.0\n",
              "3  Cypress Grove Cheddar    NaN\n",
              "4          Oakdale Colby   45.0"
            ]
          },
          "execution_count": 165,
          "metadata": {},
          "output_type": "execute_result"
        }
      ],
      "source": [
        "cheeses.head()"
      ]
    },
    {
      "cell_type": "code",
      "execution_count": null,
      "metadata": {
        "id": "HnF_5HlLB-7g"
      },
      "outputs": [],
      "source": [
        "med = cheeses[~cheeses['Price'].isnull()]['Price'].median()"
      ]
    },
    {
      "cell_type": "code",
      "execution_count": null,
      "metadata": {
        "id": "mk9T8nVeB-7g"
      },
      "outputs": [],
      "source": [
        "cheeses.loc[cheeses['Price'].isnull(), 'Price'] = med"
      ]
    },
    {
      "cell_type": "code",
      "execution_count": null,
      "metadata": {
        "id": "NmjbaoJpB-7g",
        "outputId": "f351082e-81ac-4f7c-e70b-f1f8f861d5ce"
      },
      "outputs": [
        {
          "data": {
            "text/html": [
              "<div>\n",
              "<style scoped>\n",
              "    .dataframe tbody tr th:only-of-type {\n",
              "        vertical-align: middle;\n",
              "    }\n",
              "\n",
              "    .dataframe tbody tr th {\n",
              "        vertical-align: top;\n",
              "    }\n",
              "\n",
              "    .dataframe thead th {\n",
              "        text-align: right;\n",
              "    }\n",
              "</style>\n",
              "<table border=\"1\" class=\"dataframe\">\n",
              "  <thead>\n",
              "    <tr style=\"text-align: right;\">\n",
              "      <th></th>\n",
              "      <th>Name</th>\n",
              "      <th>Price</th>\n",
              "    </tr>\n",
              "  </thead>\n",
              "  <tbody>\n",
              "    <tr>\n",
              "      <th>0</th>\n",
              "      <td>Bohemian Goat</td>\n",
              "      <td>15.0</td>\n",
              "    </tr>\n",
              "    <tr>\n",
              "      <th>1</th>\n",
              "      <td>Central Coast Bleu</td>\n",
              "      <td>30.0</td>\n",
              "    </tr>\n",
              "    <tr>\n",
              "      <th>2</th>\n",
              "      <td>Cowgirl Mozzarella</td>\n",
              "      <td>30.0</td>\n",
              "    </tr>\n",
              "    <tr>\n",
              "      <th>3</th>\n",
              "      <td>Cypress Grove Cheddar</td>\n",
              "      <td>30.0</td>\n",
              "    </tr>\n",
              "    <tr>\n",
              "      <th>4</th>\n",
              "      <td>Oakdale Colby</td>\n",
              "      <td>45.0</td>\n",
              "    </tr>\n",
              "  </tbody>\n",
              "</table>\n",
              "</div>"
            ],
            "text/plain": [
              "                    Name  Price\n",
              "0          Bohemian Goat   15.0\n",
              "1     Central Coast Bleu   30.0\n",
              "2     Cowgirl Mozzarella   30.0\n",
              "3  Cypress Grove Cheddar   30.0\n",
              "4          Oakdale Colby   45.0"
            ]
          },
          "execution_count": 179,
          "metadata": {},
          "output_type": "execute_result"
        }
      ],
      "source": [
        "cheeses"
      ]
    },
    {
      "cell_type": "markdown",
      "metadata": {
        "id": "ITIF8w_UB-7g"
      },
      "source": [
        "**Q5: Acceptance Rate**: We’re given two tables. friend_requests holds all the friend requests made and friend_accepts is all of the acceptances.\n",
        "\n",
        "Write a query to find the overall acceptance rate of friend requests. Note: Round results to 4 decimal places."
      ]
    },
    {
      "cell_type": "markdown",
      "metadata": {
        "id": "udYV59XNB-7g"
      },
      "source": [
        "Example:\n",
        "\n",
        "Input:\n",
        "\n",
        "friend_requests table\n",
        "\n",
        "| Column      | Type |\n",
        "| ----------- | ----------- |\n",
        "| requester_id|INTEGER|\n",
        "|requested_id|INTEGER|\n",
        "|created_at|DATETIME|\n",
        "\n",
        "\n",
        "friend_accepts table\n",
        "\n",
        "| Column      | Type |\n",
        "| ----------- | ----------- |\n",
        "| acceptor_id|INTEGER|\n",
        "|requester_id|INTEGER|\n",
        "|created_at|DATETIME|\n",
        "\n",
        "\n",
        "Output:\n",
        "\n",
        "| Column      | Type |\n",
        "| ----------- | ----------- |\n",
        "| acceptance_rate   | FLOAT     |\n",
        "\n",
        "\n"
      ]
    },
    {
      "cell_type": "code",
      "execution_count": null,
      "metadata": {
        "tags": [],
        "id": "H2E1VUXJB-7g"
      },
      "outputs": [],
      "source": [
        "friend_accepts = pd.DataFrame({\"acceptor_id\":[75, 54, 43],  \"requester_id\": [2,1,5],\n",
        "                   \"created_at\":[\"2020-09-24 00:00:00\",\\\n",
        "                                 \"2020-09-25 00:00:00\",\"2020-09-27 00:00:00\"]})\n",
        "\n",
        "friend_requests=pd.DataFrame({\"requester_id\":[1,2,3,4,5],\n",
        "                \"requested_id\":[54,75,35,24,43],\n",
        "                \"created_at\":[\"2020-09-23 00:00:00\",\\\n",
        "                              \"2020-09-24 00:00:00\",\"2020-09-24 00:00:00\",\n",
        "                              \"2020-09-25 00:00:00\",\"2020-09-26 00:00:00\"]})"
      ]
    },
    {
      "cell_type": "code",
      "execution_count": null,
      "metadata": {
        "id": "oX4VjJoJB-7h",
        "outputId": "eda54790-68d1-448f-bc04-9c7e077f800d"
      },
      "outputs": [
        {
          "data": {
            "text/html": [
              "<div>\n",
              "<style scoped>\n",
              "    .dataframe tbody tr th:only-of-type {\n",
              "        vertical-align: middle;\n",
              "    }\n",
              "\n",
              "    .dataframe tbody tr th {\n",
              "        vertical-align: top;\n",
              "    }\n",
              "\n",
              "    .dataframe thead th {\n",
              "        text-align: right;\n",
              "    }\n",
              "</style>\n",
              "<table border=\"1\" class=\"dataframe\">\n",
              "  <thead>\n",
              "    <tr style=\"text-align: right;\">\n",
              "      <th></th>\n",
              "      <th>acceptor_id</th>\n",
              "      <th>requester_id</th>\n",
              "      <th>created_at</th>\n",
              "    </tr>\n",
              "  </thead>\n",
              "  <tbody>\n",
              "    <tr>\n",
              "      <th>0</th>\n",
              "      <td>75</td>\n",
              "      <td>2</td>\n",
              "      <td>2020-09-24 00:00:00</td>\n",
              "    </tr>\n",
              "    <tr>\n",
              "      <th>1</th>\n",
              "      <td>54</td>\n",
              "      <td>1</td>\n",
              "      <td>2020-09-25 00:00:00</td>\n",
              "    </tr>\n",
              "    <tr>\n",
              "      <th>2</th>\n",
              "      <td>43</td>\n",
              "      <td>5</td>\n",
              "      <td>2020-09-27 00:00:00</td>\n",
              "    </tr>\n",
              "  </tbody>\n",
              "</table>\n",
              "</div>"
            ],
            "text/plain": [
              "   acceptor_id  requester_id           created_at\n",
              "0           75             2  2020-09-24 00:00:00\n",
              "1           54             1  2020-09-25 00:00:00\n",
              "2           43             5  2020-09-27 00:00:00"
            ]
          },
          "execution_count": 131,
          "metadata": {},
          "output_type": "execute_result"
        }
      ],
      "source": [
        "friend_accepts"
      ]
    },
    {
      "cell_type": "code",
      "execution_count": null,
      "metadata": {
        "id": "TwQXxWwNB-7h",
        "outputId": "09f3eacf-0146-4500-83fa-f04dcce7fd7b"
      },
      "outputs": [
        {
          "data": {
            "text/html": [
              "<div>\n",
              "<style scoped>\n",
              "    .dataframe tbody tr th:only-of-type {\n",
              "        vertical-align: middle;\n",
              "    }\n",
              "\n",
              "    .dataframe tbody tr th {\n",
              "        vertical-align: top;\n",
              "    }\n",
              "\n",
              "    .dataframe thead th {\n",
              "        text-align: right;\n",
              "    }\n",
              "</style>\n",
              "<table border=\"1\" class=\"dataframe\">\n",
              "  <thead>\n",
              "    <tr style=\"text-align: right;\">\n",
              "      <th></th>\n",
              "      <th>requester_id</th>\n",
              "      <th>requested_id</th>\n",
              "      <th>created_at</th>\n",
              "    </tr>\n",
              "  </thead>\n",
              "  <tbody>\n",
              "    <tr>\n",
              "      <th>0</th>\n",
              "      <td>1</td>\n",
              "      <td>54</td>\n",
              "      <td>2020-09-23 00:00:00</td>\n",
              "    </tr>\n",
              "    <tr>\n",
              "      <th>1</th>\n",
              "      <td>2</td>\n",
              "      <td>75</td>\n",
              "      <td>2020-09-24 00:00:00</td>\n",
              "    </tr>\n",
              "    <tr>\n",
              "      <th>2</th>\n",
              "      <td>3</td>\n",
              "      <td>35</td>\n",
              "      <td>2020-09-24 00:00:00</td>\n",
              "    </tr>\n",
              "    <tr>\n",
              "      <th>3</th>\n",
              "      <td>4</td>\n",
              "      <td>24</td>\n",
              "      <td>2020-09-25 00:00:00</td>\n",
              "    </tr>\n",
              "    <tr>\n",
              "      <th>4</th>\n",
              "      <td>5</td>\n",
              "      <td>43</td>\n",
              "      <td>2020-09-26 00:00:00</td>\n",
              "    </tr>\n",
              "  </tbody>\n",
              "</table>\n",
              "</div>"
            ],
            "text/plain": [
              "   requester_id  requested_id           created_at\n",
              "0             1            54  2020-09-23 00:00:00\n",
              "1             2            75  2020-09-24 00:00:00\n",
              "2             3            35  2020-09-24 00:00:00\n",
              "3             4            24  2020-09-25 00:00:00\n",
              "4             5            43  2020-09-26 00:00:00"
            ]
          },
          "execution_count": 132,
          "metadata": {},
          "output_type": "execute_result"
        }
      ],
      "source": [
        "friend_requests.head()"
      ]
    },
    {
      "cell_type": "code",
      "execution_count": null,
      "metadata": {
        "id": "3LvIovphB-7h",
        "outputId": "8b213d7c-ea38-4ff0-c98f-ad7f3facafcf"
      },
      "outputs": [
        {
          "data": {
            "text/plain": [
              "acceptor_id      int64\n",
              "requester_id     int64\n",
              "created_at      object\n",
              "dtype: object"
            ]
          },
          "execution_count": 133,
          "metadata": {},
          "output_type": "execute_result"
        }
      ],
      "source": [
        "friend_accepts.dtypes"
      ]
    },
    {
      "cell_type": "code",
      "execution_count": null,
      "metadata": {
        "id": "Mv_zZHxYB-7h",
        "outputId": "87ca03e4-9f28-4dd4-98d2-16261bf6c045"
      },
      "outputs": [
        {
          "data": {
            "text/plain": [
              "requester_id     int64\n",
              "requested_id     int64\n",
              "created_at      object\n",
              "dtype: object"
            ]
          },
          "execution_count": 134,
          "metadata": {},
          "output_type": "execute_result"
        }
      ],
      "source": [
        "friend_requests.dtypes\n"
      ]
    },
    {
      "cell_type": "code",
      "execution_count": null,
      "metadata": {
        "id": "lKYOQ6GeB-7i"
      },
      "outputs": [],
      "source": [
        "friend_data = friend_accepts.merge(friend_requests, left_on = 'acceptor_id', right_on = 'requester_id', how = 'right')"
      ]
    },
    {
      "cell_type": "code",
      "execution_count": null,
      "metadata": {
        "id": "uBy0CjQOB-7i",
        "outputId": "41ec841c-3a95-430b-bb5b-a79a439a6da9"
      },
      "outputs": [
        {
          "data": {
            "text/html": [
              "<div>\n",
              "<style scoped>\n",
              "    .dataframe tbody tr th:only-of-type {\n",
              "        vertical-align: middle;\n",
              "    }\n",
              "\n",
              "    .dataframe tbody tr th {\n",
              "        vertical-align: top;\n",
              "    }\n",
              "\n",
              "    .dataframe thead th {\n",
              "        text-align: right;\n",
              "    }\n",
              "</style>\n",
              "<table border=\"1\" class=\"dataframe\">\n",
              "  <thead>\n",
              "    <tr style=\"text-align: right;\">\n",
              "      <th></th>\n",
              "      <th>acceptor_id</th>\n",
              "      <th>requester_id_x</th>\n",
              "      <th>created_at_x</th>\n",
              "      <th>requester_id_y</th>\n",
              "      <th>requested_id</th>\n",
              "      <th>created_at_y</th>\n",
              "    </tr>\n",
              "  </thead>\n",
              "  <tbody>\n",
              "    <tr>\n",
              "      <th>0</th>\n",
              "      <td>NaN</td>\n",
              "      <td>NaN</td>\n",
              "      <td>NaN</td>\n",
              "      <td>1</td>\n",
              "      <td>54</td>\n",
              "      <td>2020-09-23 00:00:00</td>\n",
              "    </tr>\n",
              "    <tr>\n",
              "      <th>1</th>\n",
              "      <td>NaN</td>\n",
              "      <td>NaN</td>\n",
              "      <td>NaN</td>\n",
              "      <td>2</td>\n",
              "      <td>75</td>\n",
              "      <td>2020-09-24 00:00:00</td>\n",
              "    </tr>\n",
              "    <tr>\n",
              "      <th>2</th>\n",
              "      <td>NaN</td>\n",
              "      <td>NaN</td>\n",
              "      <td>NaN</td>\n",
              "      <td>3</td>\n",
              "      <td>35</td>\n",
              "      <td>2020-09-24 00:00:00</td>\n",
              "    </tr>\n",
              "    <tr>\n",
              "      <th>3</th>\n",
              "      <td>NaN</td>\n",
              "      <td>NaN</td>\n",
              "      <td>NaN</td>\n",
              "      <td>4</td>\n",
              "      <td>24</td>\n",
              "      <td>2020-09-25 00:00:00</td>\n",
              "    </tr>\n",
              "    <tr>\n",
              "      <th>4</th>\n",
              "      <td>NaN</td>\n",
              "      <td>NaN</td>\n",
              "      <td>NaN</td>\n",
              "      <td>5</td>\n",
              "      <td>43</td>\n",
              "      <td>2020-09-26 00:00:00</td>\n",
              "    </tr>\n",
              "  </tbody>\n",
              "</table>\n",
              "</div>"
            ],
            "text/plain": [
              "   acceptor_id  requester_id_x created_at_x  requester_id_y  requested_id  \\\n",
              "0          NaN             NaN          NaN               1            54   \n",
              "1          NaN             NaN          NaN               2            75   \n",
              "2          NaN             NaN          NaN               3            35   \n",
              "3          NaN             NaN          NaN               4            24   \n",
              "4          NaN             NaN          NaN               5            43   \n",
              "\n",
              "          created_at_y  \n",
              "0  2020-09-23 00:00:00  \n",
              "1  2020-09-24 00:00:00  \n",
              "2  2020-09-24 00:00:00  \n",
              "3  2020-09-25 00:00:00  \n",
              "4  2020-09-26 00:00:00  "
            ]
          },
          "execution_count": 140,
          "metadata": {},
          "output_type": "execute_result"
        }
      ],
      "source": [
        "friend_data.head()"
      ]
    },
    {
      "cell_type": "code",
      "execution_count": null,
      "metadata": {
        "id": "5zWhMvbPB-7i",
        "outputId": "c20cf749-542d-431f-c994-fbfdd8d9489f"
      },
      "outputs": [
        {
          "data": {
            "text/plain": [
              "5"
            ]
          },
          "execution_count": 162,
          "metadata": {},
          "output_type": "execute_result"
        }
      ],
      "source": [
        "NA = friend_data['acceptor_id'].isnull().sum()\n",
        "NA"
      ]
    },
    {
      "cell_type": "code",
      "execution_count": null,
      "metadata": {
        "id": "wlKvuLuZB-7i",
        "outputId": "8d6ffc32-8398-4529-adde-e8159cb5dbc9"
      },
      "outputs": [
        {
          "data": {
            "text/plain": [
              "5"
            ]
          },
          "execution_count": 161,
          "metadata": {},
          "output_type": "execute_result"
        }
      ],
      "source": [
        "A =  friend_data['requester_id_x'].isnull().sum()\n",
        "A"
      ]
    },
    {
      "cell_type": "markdown",
      "metadata": {
        "id": "_eB_RizdB-7j"
      },
      "source": [
        "**Q6: Employee Salaries**"
      ]
    },
    {
      "cell_type": "markdown",
      "metadata": {
        "id": "MNlsL2ovB-7j"
      },
      "source": [
        "Let’s say we have a table representing a company payroll schema.\n",
        "\n",
        "Due to an ETL error, the employees table instead of updating the salaries every year when doing compensation adjustments, did an insert instead. The head of HR still needs the current salary of each employee.\n",
        "\n",
        "Bonus: Write a query to get the current salary for each employee.\n",
        "\n",
        "Note: Assume no duplicate combination of first and last names. (I.E. No two John Smiths)\n",
        "\n",
        "Example:\n",
        "\n",
        "Input:\n",
        "\n",
        "employees table\n",
        "\n",
        "|Column|Type|\n",
        "|------|-------|\n",
        "|id|VARCHAR|\n",
        "|first_name|VARCHAR|\n",
        "|last_name|VARCHAR|\n",
        "|salary|INTEGER|\n",
        "|department_id|INTEGER|\n",
        "\n",
        "Output:\n",
        "\n",
        "|Column|Types|\n",
        "|------|------|\n",
        "|first_name|VARCHAR|\n",
        "|last_name|VARCHAR|\n",
        "|salary|INTEGER|\n"
      ]
    },
    {
      "cell_type": "code",
      "execution_count": null,
      "metadata": {
        "id": "81S3Eu47B-7j"
      },
      "outputs": [],
      "source": [
        "import pandas as pd\n",
        "employees=pd.read_csv(\"data/employees.csv\", index_col='id')"
      ]
    },
    {
      "cell_type": "markdown",
      "metadata": {
        "id": "-wy8wrEQB-7j"
      },
      "source": [
        "**Q7: Good Grades and Favorite Colors**\n",
        "You’re given a dataframe of students named students_df:\n",
        "\n",
        "students_df table\n",
        "\n",
        "|name|age|favorite_color|grade|\n",
        "|----|---|----------|-------|\n",
        "|Tim Voss|19|red91|\n",
        "|Nicole Johnson|20|yellow|95|\n",
        "|Elsa Williams|21|green|82|\n",
        "|John James|20|blue|75|\n",
        "|Catherine Jones|23|green|93|\n",
        "\n",
        "Write a function named grades_colors to select only the rows where the student’s favorite color is green or red and their grade is above 90."
      ]
    },
    {
      "cell_type": "code",
      "execution_count": null,
      "metadata": {
        "id": "M-Tl9lFhB-7j",
        "outputId": "eab09a4d-dc3c-4f6e-bf1e-9944ba847638"
      },
      "outputs": [
        {
          "data": {
            "text/html": [
              "<div>\n",
              "<style scoped>\n",
              "    .dataframe tbody tr th:only-of-type {\n",
              "        vertical-align: middle;\n",
              "    }\n",
              "\n",
              "    .dataframe tbody tr th {\n",
              "        vertical-align: top;\n",
              "    }\n",
              "\n",
              "    .dataframe thead th {\n",
              "        text-align: right;\n",
              "    }\n",
              "</style>\n",
              "<table border=\"1\" class=\"dataframe\">\n",
              "  <thead>\n",
              "    <tr style=\"text-align: right;\">\n",
              "      <th></th>\n",
              "      <th>name</th>\n",
              "      <th>age</th>\n",
              "      <th>favorite_color</th>\n",
              "      <th>grade</th>\n",
              "    </tr>\n",
              "  </thead>\n",
              "  <tbody>\n",
              "    <tr>\n",
              "      <th>0</th>\n",
              "      <td>Tim Voss</td>\n",
              "      <td>19</td>\n",
              "      <td>red</td>\n",
              "      <td>91</td>\n",
              "    </tr>\n",
              "    <tr>\n",
              "      <th>1</th>\n",
              "      <td>Nicole Johnson</td>\n",
              "      <td>20</td>\n",
              "      <td>yellow</td>\n",
              "      <td>95</td>\n",
              "    </tr>\n",
              "    <tr>\n",
              "      <th>2</th>\n",
              "      <td>Elsa Williams</td>\n",
              "      <td>21</td>\n",
              "      <td>green</td>\n",
              "      <td>82</td>\n",
              "    </tr>\n",
              "    <tr>\n",
              "      <th>3</th>\n",
              "      <td>John James</td>\n",
              "      <td>20</td>\n",
              "      <td>blue</td>\n",
              "      <td>75</td>\n",
              "    </tr>\n",
              "    <tr>\n",
              "      <th>4</th>\n",
              "      <td>Catherine Jones</td>\n",
              "      <td>23</td>\n",
              "      <td>green</td>\n",
              "      <td>93</td>\n",
              "    </tr>\n",
              "  </tbody>\n",
              "</table>\n",
              "</div>"
            ],
            "text/plain": [
              "              name  age favorite_color  grade\n",
              "0         Tim Voss   19            red     91\n",
              "1   Nicole Johnson   20         yellow     95\n",
              "2    Elsa Williams   21          green     82\n",
              "3       John James   20           blue     75\n",
              "4  Catherine Jones   23          green     93"
            ]
          },
          "execution_count": 182,
          "metadata": {},
          "output_type": "execute_result"
        }
      ],
      "source": [
        "students_df=pd.read_csv(\"data/students.csv\")\n",
        "students_df"
      ]
    },
    {
      "cell_type": "code",
      "execution_count": null,
      "metadata": {
        "id": "uCxYOR8LB-7k",
        "outputId": "17dda951-fef2-468a-a7f0-9efdf42949a7"
      },
      "outputs": [
        {
          "data": {
            "text/html": [
              "<div>\n",
              "<style scoped>\n",
              "    .dataframe tbody tr th:only-of-type {\n",
              "        vertical-align: middle;\n",
              "    }\n",
              "\n",
              "    .dataframe tbody tr th {\n",
              "        vertical-align: top;\n",
              "    }\n",
              "\n",
              "    .dataframe thead th {\n",
              "        text-align: right;\n",
              "    }\n",
              "</style>\n",
              "<table border=\"1\" class=\"dataframe\">\n",
              "  <thead>\n",
              "    <tr style=\"text-align: right;\">\n",
              "      <th></th>\n",
              "      <th>name</th>\n",
              "      <th>age</th>\n",
              "      <th>favorite_color</th>\n",
              "      <th>grade</th>\n",
              "    </tr>\n",
              "  </thead>\n",
              "  <tbody>\n",
              "    <tr>\n",
              "      <th>0</th>\n",
              "      <td>Tim Voss</td>\n",
              "      <td>19</td>\n",
              "      <td>red</td>\n",
              "      <td>91</td>\n",
              "    </tr>\n",
              "    <tr>\n",
              "      <th>1</th>\n",
              "      <td>Nicole Johnson</td>\n",
              "      <td>20</td>\n",
              "      <td>yellow</td>\n",
              "      <td>95</td>\n",
              "    </tr>\n",
              "    <tr>\n",
              "      <th>2</th>\n",
              "      <td>Elsa Williams</td>\n",
              "      <td>21</td>\n",
              "      <td>green</td>\n",
              "      <td>82</td>\n",
              "    </tr>\n",
              "    <tr>\n",
              "      <th>3</th>\n",
              "      <td>John James</td>\n",
              "      <td>20</td>\n",
              "      <td>blue</td>\n",
              "      <td>75</td>\n",
              "    </tr>\n",
              "    <tr>\n",
              "      <th>4</th>\n",
              "      <td>Catherine Jones</td>\n",
              "      <td>23</td>\n",
              "      <td>green</td>\n",
              "      <td>93</td>\n",
              "    </tr>\n",
              "  </tbody>\n",
              "</table>\n",
              "</div>"
            ],
            "text/plain": [
              "              name  age favorite_color  grade\n",
              "0         Tim Voss   19            red     91\n",
              "1   Nicole Johnson   20         yellow     95\n",
              "2    Elsa Williams   21          green     82\n",
              "3       John James   20           blue     75\n",
              "4  Catherine Jones   23          green     93"
            ]
          },
          "execution_count": 183,
          "metadata": {},
          "output_type": "execute_result"
        }
      ],
      "source": [
        "students_df.head()"
      ]
    },
    {
      "cell_type": "code",
      "execution_count": null,
      "metadata": {
        "id": "QcQFD_7_B-7k"
      },
      "outputs": [],
      "source": [
        "def alg1(df):\n",
        "    return df[(df['favorite_color'].isin(['green', 'red'])) & (df['grade'] > 90 )]"
      ]
    },
    {
      "cell_type": "code",
      "execution_count": null,
      "metadata": {
        "id": "lvK6RkfJB-7k",
        "outputId": "a60a1a21-3144-41b1-cd09-ec389d256f55"
      },
      "outputs": [
        {
          "data": {
            "text/html": [
              "<div>\n",
              "<style scoped>\n",
              "    .dataframe tbody tr th:only-of-type {\n",
              "        vertical-align: middle;\n",
              "    }\n",
              "\n",
              "    .dataframe tbody tr th {\n",
              "        vertical-align: top;\n",
              "    }\n",
              "\n",
              "    .dataframe thead th {\n",
              "        text-align: right;\n",
              "    }\n",
              "</style>\n",
              "<table border=\"1\" class=\"dataframe\">\n",
              "  <thead>\n",
              "    <tr style=\"text-align: right;\">\n",
              "      <th></th>\n",
              "      <th>name</th>\n",
              "      <th>age</th>\n",
              "      <th>favorite_color</th>\n",
              "      <th>grade</th>\n",
              "    </tr>\n",
              "  </thead>\n",
              "  <tbody>\n",
              "    <tr>\n",
              "      <th>0</th>\n",
              "      <td>Tim Voss</td>\n",
              "      <td>19</td>\n",
              "      <td>red</td>\n",
              "      <td>91</td>\n",
              "    </tr>\n",
              "    <tr>\n",
              "      <th>4</th>\n",
              "      <td>Catherine Jones</td>\n",
              "      <td>23</td>\n",
              "      <td>green</td>\n",
              "      <td>93</td>\n",
              "    </tr>\n",
              "  </tbody>\n",
              "</table>\n",
              "</div>"
            ],
            "text/plain": [
              "              name  age favorite_color  grade\n",
              "0         Tim Voss   19            red     91\n",
              "4  Catherine Jones   23          green     93"
            ]
          },
          "execution_count": 195,
          "metadata": {},
          "output_type": "execute_result"
        }
      ],
      "source": [
        "alg1(students_df)"
      ]
    },
    {
      "cell_type": "markdown",
      "metadata": {
        "id": "FY7k_z4xB-7l"
      },
      "source": [
        "**Q8: Rain on Rainy Days**\n",
        "You’re given a dataframe df_rain containing rainfall data. The dataframe has two columns: day of the week and rainfall in inches.\n",
        "\n",
        "Write a function median_rainfall to find the median amount of rainfall for the days on which it rained.\n",
        "\n",
        "Note: You may assume it rained on at least one of the days."
      ]
    },
    {
      "cell_type": "code",
      "execution_count": null,
      "metadata": {
        "id": "rjnd8zacB-7l",
        "outputId": "1f81c603-d4b9-4e14-c8bd-9d79ac72c45d"
      },
      "outputs": [
        {
          "data": {
            "text/plain": [
              "4.0"
            ]
          },
          "execution_count": 69,
          "metadata": {},
          "output_type": "execute_result"
        }
      ],
      "source": [
        "import pandas as pd\n",
        "df_rain = pd.DataFrame({\"Day\":[\"Monday\", \"Tuesday\", \"Wednesday\",\\\n",
        "                               \"Thursday\", \"Friday\"],\"Inches\":[6,0,2,3,5]})\n"
      ]
    },
    {
      "cell_type": "markdown",
      "metadata": {
        "id": "XPW3i387B-7m"
      },
      "source": [
        "**Q9: First Name Only**\n",
        "You’re given a dataframe containing a list of user IDs and their full names (e.g. ‘James Emerson’).\n",
        "\n",
        "Transform this dataframe into a dataframe that contains the user ids and only the first name of each user."
      ]
    },
    {
      "cell_type": "code",
      "execution_count": null,
      "metadata": {
        "id": "H3JF13_8B-7m"
      },
      "outputs": [],
      "source": [
        "import pandas as pd\n",
        "\n",
        "users_df=pd.DataFrame({\"user_id\": [1034, 9430, 7281, 5264, 8995],\n",
        "                       \"name\": [\"James Emerson\",\"Fiona Woodward\",\\\n",
        "                                \"Alvin Gross\",\"Deborah Handler\",\"Leah Xue\"]})\n"
      ]
    },
    {
      "cell_type": "markdown",
      "metadata": {
        "id": "ZEPDLOfVB-7n"
      },
      "source": [
        "**Q10 Second Highest Salary**\n",
        "Write a  query to select the 2nd highest salary in the engineering department. If more than one person shares the highest salary, the query should select the next highest salary.\n",
        "\n",
        "Example:\n",
        "\n",
        "Input:\n",
        "\n",
        "employees table\n",
        "\n",
        "|Column|Type|\n",
        "|------|-----|\n",
        "|id|INTEGER|\n",
        "|first_name|VARCHAR|\n",
        "|last_name|VARCHAR|\n",
        "|salary|INTEGER|\n",
        "|department_id|INTEGER|\n",
        "\n",
        "departments table\n",
        "\n",
        "|Column|Type|\n",
        "|-----|-----|\n",
        "|id|INTEGER|\n",
        "|name|VARCHAR|\n",
        "\n",
        "Output:\n",
        "\n",
        "|Column|Type|\n",
        "|------|----|\n",
        "|salary|INTEGER|\n"
      ]
    },
    {
      "cell_type": "code",
      "execution_count": null,
      "metadata": {
        "id": "CJu3skUYB-7n"
      },
      "outputs": [],
      "source": [
        "import pandas as pd\n",
        "departments = pd.DataFrame({\"id\":[1,2,3,4],\\\n",
        "                            \"name\":[\"engineering\", \"marketing\", \"sales\", \"hr\"]})\n",
        "employees = pd.read_csv(\"data/employees2.csv\")"
      ]
    }
  ],
  "metadata": {
    "kernelspec": {
      "display_name": "Python 3 (ipykernel)",
      "language": "python",
      "name": "python3"
    },
    "language_info": {
      "codemirror_mode": {
        "name": "ipython",
        "version": 3
      },
      "file_extension": ".py",
      "mimetype": "text/x-python",
      "name": "python",
      "nbconvert_exporter": "python",
      "pygments_lexer": "ipython3",
      "version": "3.12.5"
    },
    "colab": {
      "provenance": []
    }
  },
  "nbformat": 4,
  "nbformat_minor": 0
}